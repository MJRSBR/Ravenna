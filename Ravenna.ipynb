{
  "cells": [
    {
      "cell_type": "markdown",
      "metadata": {
        "id": "view-in-github",
        "colab_type": "text"
      },
      "source": [
        "<a href=\"https://colab.research.google.com/github/MJRSBR/Ravenna/blob/main/Ravenna.ipynb\" target=\"_parent\"><img src=\"https://colab.research.google.com/assets/colab-badge.svg\" alt=\"Open In Colab\"/></a>"
      ]
    },
    {
      "cell_type": "markdown",
      "source": [
        "#This collab was design in Python as part of the End-of-life Project in Ravenna - Italy\n",
        "\n",
        "> The source of data was the excel file shared in the Google Drive BDG_04d_Accessi_PS_pazienti_in_CRA_FU_dett_Sdo_AnonimoAUSLRO.xlsx\n",
        "\n",
        "> The author had autorization to use the material \n",
        "\n",
        "\n",
        "\n"
      ],
      "metadata": {
        "id": "uis2ZXacB4_z"
      }
    },
    {
      "cell_type": "code",
      "execution_count": null,
      "metadata": {
        "id": "GnmKE7ZMG5x6"
      },
      "outputs": [],
      "source": [
        "import numpy as np\n",
        "import pandas as pd\n",
        "from __future__ import print_function"
      ]
    },
    {
      "cell_type": "markdown",
      "metadata": {
        "id": "hgVN5lvoIj5y"
      },
      "source": [
        "**Install xlrd to read Excel file**"
      ]
    },
    {
      "cell_type": "code",
      "execution_count": null,
      "metadata": {
        "colab": {
          "base_uri": "https://localhost:8080/"
        },
        "id": "QYGOr3KNIIDl",
        "outputId": "5a7ea3d5-66a7-4b84-c192-19ecb2a9c869"
      },
      "outputs": [
        {
          "output_type": "stream",
          "name": "stdout",
          "text": [
            "Looking in indexes: https://pypi.org/simple, https://us-python.pkg.dev/colab-wheels/public/simple/\n",
            "Requirement already satisfied: xlrd in /usr/local/lib/python3.10/dist-packages (2.0.1)\n",
            "xlrd installed!\n"
          ]
        }
      ],
      "source": [
        "!pip install xlrd\n",
        "print(\"xlrd installed!\")"
      ]
    },
    {
      "cell_type": "markdown",
      "metadata": {
        "id": "1qMTXeMWfrQL"
      },
      "source": [
        "**Upload Excel file to Collab after some mandatory adjusts in the original spread cheat to Python**\n",
        "\n",
        "*PS: this command has effect only running in Google Chrome* "
      ]
    },
    {
      "cell_type": "code",
      "execution_count": null,
      "metadata": {
        "colab": {
          "base_uri": "https://localhost:8080/",
          "height": 92
        },
        "id": "62nBvfvcj2kq",
        "outputId": "f82475d0-0a53-4306-f075-d8e27faa5343"
      },
      "outputs": [
        {
          "output_type": "display_data",
          "data": {
            "text/plain": [
              "<IPython.core.display.HTML object>"
            ],
            "text/html": [
              "\n",
              "     <input type=\"file\" id=\"files-1c03efc2-2152-4175-b837-c3165a967127\" name=\"files[]\" multiple disabled\n",
              "        style=\"border:none\" />\n",
              "     <output id=\"result-1c03efc2-2152-4175-b837-c3165a967127\">\n",
              "      Upload widget is only available when the cell has been executed in the\n",
              "      current browser session. Please rerun this cell to enable.\n",
              "      </output>\n",
              "      <script>// Copyright 2017 Google LLC\n",
              "//\n",
              "// Licensed under the Apache License, Version 2.0 (the \"License\");\n",
              "// you may not use this file except in compliance with the License.\n",
              "// You may obtain a copy of the License at\n",
              "//\n",
              "//      http://www.apache.org/licenses/LICENSE-2.0\n",
              "//\n",
              "// Unless required by applicable law or agreed to in writing, software\n",
              "// distributed under the License is distributed on an \"AS IS\" BASIS,\n",
              "// WITHOUT WARRANTIES OR CONDITIONS OF ANY KIND, either express or implied.\n",
              "// See the License for the specific language governing permissions and\n",
              "// limitations under the License.\n",
              "\n",
              "/**\n",
              " * @fileoverview Helpers for google.colab Python module.\n",
              " */\n",
              "(function(scope) {\n",
              "function span(text, styleAttributes = {}) {\n",
              "  const element = document.createElement('span');\n",
              "  element.textContent = text;\n",
              "  for (const key of Object.keys(styleAttributes)) {\n",
              "    element.style[key] = styleAttributes[key];\n",
              "  }\n",
              "  return element;\n",
              "}\n",
              "\n",
              "// Max number of bytes which will be uploaded at a time.\n",
              "const MAX_PAYLOAD_SIZE = 100 * 1024;\n",
              "\n",
              "function _uploadFiles(inputId, outputId) {\n",
              "  const steps = uploadFilesStep(inputId, outputId);\n",
              "  const outputElement = document.getElementById(outputId);\n",
              "  // Cache steps on the outputElement to make it available for the next call\n",
              "  // to uploadFilesContinue from Python.\n",
              "  outputElement.steps = steps;\n",
              "\n",
              "  return _uploadFilesContinue(outputId);\n",
              "}\n",
              "\n",
              "// This is roughly an async generator (not supported in the browser yet),\n",
              "// where there are multiple asynchronous steps and the Python side is going\n",
              "// to poll for completion of each step.\n",
              "// This uses a Promise to block the python side on completion of each step,\n",
              "// then passes the result of the previous step as the input to the next step.\n",
              "function _uploadFilesContinue(outputId) {\n",
              "  const outputElement = document.getElementById(outputId);\n",
              "  const steps = outputElement.steps;\n",
              "\n",
              "  const next = steps.next(outputElement.lastPromiseValue);\n",
              "  return Promise.resolve(next.value.promise).then((value) => {\n",
              "    // Cache the last promise value to make it available to the next\n",
              "    // step of the generator.\n",
              "    outputElement.lastPromiseValue = value;\n",
              "    return next.value.response;\n",
              "  });\n",
              "}\n",
              "\n",
              "/**\n",
              " * Generator function which is called between each async step of the upload\n",
              " * process.\n",
              " * @param {string} inputId Element ID of the input file picker element.\n",
              " * @param {string} outputId Element ID of the output display.\n",
              " * @return {!Iterable<!Object>} Iterable of next steps.\n",
              " */\n",
              "function* uploadFilesStep(inputId, outputId) {\n",
              "  const inputElement = document.getElementById(inputId);\n",
              "  inputElement.disabled = false;\n",
              "\n",
              "  const outputElement = document.getElementById(outputId);\n",
              "  outputElement.innerHTML = '';\n",
              "\n",
              "  const pickedPromise = new Promise((resolve) => {\n",
              "    inputElement.addEventListener('change', (e) => {\n",
              "      resolve(e.target.files);\n",
              "    });\n",
              "  });\n",
              "\n",
              "  const cancel = document.createElement('button');\n",
              "  inputElement.parentElement.appendChild(cancel);\n",
              "  cancel.textContent = 'Cancel upload';\n",
              "  const cancelPromise = new Promise((resolve) => {\n",
              "    cancel.onclick = () => {\n",
              "      resolve(null);\n",
              "    };\n",
              "  });\n",
              "\n",
              "  // Wait for the user to pick the files.\n",
              "  const files = yield {\n",
              "    promise: Promise.race([pickedPromise, cancelPromise]),\n",
              "    response: {\n",
              "      action: 'starting',\n",
              "    }\n",
              "  };\n",
              "\n",
              "  cancel.remove();\n",
              "\n",
              "  // Disable the input element since further picks are not allowed.\n",
              "  inputElement.disabled = true;\n",
              "\n",
              "  if (!files) {\n",
              "    return {\n",
              "      response: {\n",
              "        action: 'complete',\n",
              "      }\n",
              "    };\n",
              "  }\n",
              "\n",
              "  for (const file of files) {\n",
              "    const li = document.createElement('li');\n",
              "    li.append(span(file.name, {fontWeight: 'bold'}));\n",
              "    li.append(span(\n",
              "        `(${file.type || 'n/a'}) - ${file.size} bytes, ` +\n",
              "        `last modified: ${\n",
              "            file.lastModifiedDate ? file.lastModifiedDate.toLocaleDateString() :\n",
              "                                    'n/a'} - `));\n",
              "    const percent = span('0% done');\n",
              "    li.appendChild(percent);\n",
              "\n",
              "    outputElement.appendChild(li);\n",
              "\n",
              "    const fileDataPromise = new Promise((resolve) => {\n",
              "      const reader = new FileReader();\n",
              "      reader.onload = (e) => {\n",
              "        resolve(e.target.result);\n",
              "      };\n",
              "      reader.readAsArrayBuffer(file);\n",
              "    });\n",
              "    // Wait for the data to be ready.\n",
              "    let fileData = yield {\n",
              "      promise: fileDataPromise,\n",
              "      response: {\n",
              "        action: 'continue',\n",
              "      }\n",
              "    };\n",
              "\n",
              "    // Use a chunked sending to avoid message size limits. See b/62115660.\n",
              "    let position = 0;\n",
              "    do {\n",
              "      const length = Math.min(fileData.byteLength - position, MAX_PAYLOAD_SIZE);\n",
              "      const chunk = new Uint8Array(fileData, position, length);\n",
              "      position += length;\n",
              "\n",
              "      const base64 = btoa(String.fromCharCode.apply(null, chunk));\n",
              "      yield {\n",
              "        response: {\n",
              "          action: 'append',\n",
              "          file: file.name,\n",
              "          data: base64,\n",
              "        },\n",
              "      };\n",
              "\n",
              "      let percentDone = fileData.byteLength === 0 ?\n",
              "          100 :\n",
              "          Math.round((position / fileData.byteLength) * 100);\n",
              "      percent.textContent = `${percentDone}% done`;\n",
              "\n",
              "    } while (position < fileData.byteLength);\n",
              "  }\n",
              "\n",
              "  // All done.\n",
              "  yield {\n",
              "    response: {\n",
              "      action: 'complete',\n",
              "    }\n",
              "  };\n",
              "}\n",
              "\n",
              "scope.google = scope.google || {};\n",
              "scope.google.colab = scope.google.colab || {};\n",
              "scope.google.colab._files = {\n",
              "  _uploadFiles,\n",
              "  _uploadFilesContinue,\n",
              "};\n",
              "})(self);\n",
              "</script> "
            ]
          },
          "metadata": {}
        },
        {
          "output_type": "stream",
          "name": "stdout",
          "text": [
            "Saving BD-2.xlsx to BD-2.xlsx\n",
            "User uploaded file \"BD-2.xlsx\" with length 583899 bytes\n"
          ]
        }
      ],
      "source": [
        "from google.colab import files\n",
        "\n",
        "uploaded = files.upload()\n",
        "\n",
        "for fn in uploaded.keys():\n",
        "  print('User uploaded file \"{name}\" with length {length} bytes'.format(\n",
        "      name=fn, length=len(uploaded[fn])))"
      ]
    },
    {
      "cell_type": "markdown",
      "metadata": {
        "id": "o4gzCebrI7Ro"
      },
      "source": [
        "**Read Excel spread cheet to Collab Environment**"
      ]
    },
    {
      "cell_type": "code",
      "execution_count": 87,
      "metadata": {
        "colab": {
          "base_uri": "https://localhost:8080/",
          "height": 311
        },
        "id": "D8BQ4bBEjtVf",
        "outputId": "84ceb37d-0a79-4a3b-cd25-b884a2d51e89"
      },
      "outputs": [
        {
          "output_type": "execute_result",
          "data": {
            "text/plain": [
              "                 Distretto                                Str. Residenziale  \\\n",
              "0  035 - DISTRETTO RAVENNA  S00290 - CASA RESIDENZA PER ANZIANI \"ZALAMBANI\"   \n",
              "1  035 - DISTRETTO RAVENNA  S00290 - CASA RESIDENZA PER ANZIANI \"ZALAMBANI\"   \n",
              "\n",
              "     Identificativo Ospite Flg FU    Identificativo accesso PS  \\\n",
              "0  7663318^S00290^20220101      N  080114^080072^2022400146452   \n",
              "1  7669995^S00290^20220817      N  080114^080072^2022400110197   \n",
              "\n",
              "  Data accesso PS Ora accesso PS  \\\n",
              "0      2022-11-29          10:30   \n",
              "1      2022-09-06          11:33   \n",
              "\n",
              "                              Diagnosi principale PS Identificativo SDO  \\\n",
              "0  4270 - TACHICARDIA PAROSSISTICA SOPRAVENTRICOLARE                  -   \n",
              "1             7806 - FEBBRE (DI ORIGINE SCONOSCIUTA)    080072^22018570   \n",
              "\n",
              "  Data Ammissione Data Dimissione Modalità Dim  2021  2022  \n",
              "0             NaT             NaT          NaN   NaN   1.0  \n",
              "1      2022-09-06      2022-09-15     DECEDUTO   NaN   1.0  "
            ],
            "text/html": [
              "\n",
              "  <div id=\"df-204aacd6-c61a-482b-b7cf-52394ce3179d\">\n",
              "    <div class=\"colab-df-container\">\n",
              "      <div>\n",
              "<style scoped>\n",
              "    .dataframe tbody tr th:only-of-type {\n",
              "        vertical-align: middle;\n",
              "    }\n",
              "\n",
              "    .dataframe tbody tr th {\n",
              "        vertical-align: top;\n",
              "    }\n",
              "\n",
              "    .dataframe thead th {\n",
              "        text-align: right;\n",
              "    }\n",
              "</style>\n",
              "<table border=\"1\" class=\"dataframe\">\n",
              "  <thead>\n",
              "    <tr style=\"text-align: right;\">\n",
              "      <th></th>\n",
              "      <th>Distretto</th>\n",
              "      <th>Str. Residenziale</th>\n",
              "      <th>Identificativo Ospite</th>\n",
              "      <th>Flg FU</th>\n",
              "      <th>Identificativo accesso PS</th>\n",
              "      <th>Data accesso PS</th>\n",
              "      <th>Ora accesso PS</th>\n",
              "      <th>Diagnosi principale PS</th>\n",
              "      <th>Identificativo SDO</th>\n",
              "      <th>Data Ammissione</th>\n",
              "      <th>Data Dimissione</th>\n",
              "      <th>Modalità Dim</th>\n",
              "      <th>2021</th>\n",
              "      <th>2022</th>\n",
              "    </tr>\n",
              "  </thead>\n",
              "  <tbody>\n",
              "    <tr>\n",
              "      <th>0</th>\n",
              "      <td>035 - DISTRETTO RAVENNA</td>\n",
              "      <td>S00290 - CASA RESIDENZA PER ANZIANI \"ZALAMBANI\"</td>\n",
              "      <td>7663318^S00290^20220101</td>\n",
              "      <td>N</td>\n",
              "      <td>080114^080072^2022400146452</td>\n",
              "      <td>2022-11-29</td>\n",
              "      <td>10:30</td>\n",
              "      <td>4270 - TACHICARDIA PAROSSISTICA SOPRAVENTRICOLARE</td>\n",
              "      <td>-</td>\n",
              "      <td>NaT</td>\n",
              "      <td>NaT</td>\n",
              "      <td>NaN</td>\n",
              "      <td>NaN</td>\n",
              "      <td>1.0</td>\n",
              "    </tr>\n",
              "    <tr>\n",
              "      <th>1</th>\n",
              "      <td>035 - DISTRETTO RAVENNA</td>\n",
              "      <td>S00290 - CASA RESIDENZA PER ANZIANI \"ZALAMBANI\"</td>\n",
              "      <td>7669995^S00290^20220817</td>\n",
              "      <td>N</td>\n",
              "      <td>080114^080072^2022400110197</td>\n",
              "      <td>2022-09-06</td>\n",
              "      <td>11:33</td>\n",
              "      <td>7806 - FEBBRE (DI ORIGINE SCONOSCIUTA)</td>\n",
              "      <td>080072^22018570</td>\n",
              "      <td>2022-09-06</td>\n",
              "      <td>2022-09-15</td>\n",
              "      <td>DECEDUTO</td>\n",
              "      <td>NaN</td>\n",
              "      <td>1.0</td>\n",
              "    </tr>\n",
              "  </tbody>\n",
              "</table>\n",
              "</div>\n",
              "      <button class=\"colab-df-convert\" onclick=\"convertToInteractive('df-204aacd6-c61a-482b-b7cf-52394ce3179d')\"\n",
              "              title=\"Convert this dataframe to an interactive table.\"\n",
              "              style=\"display:none;\">\n",
              "        \n",
              "  <svg xmlns=\"http://www.w3.org/2000/svg\" height=\"24px\"viewBox=\"0 0 24 24\"\n",
              "       width=\"24px\">\n",
              "    <path d=\"M0 0h24v24H0V0z\" fill=\"none\"/>\n",
              "    <path d=\"M18.56 5.44l.94 2.06.94-2.06 2.06-.94-2.06-.94-.94-2.06-.94 2.06-2.06.94zm-11 1L8.5 8.5l.94-2.06 2.06-.94-2.06-.94L8.5 2.5l-.94 2.06-2.06.94zm10 10l.94 2.06.94-2.06 2.06-.94-2.06-.94-.94-2.06-.94 2.06-2.06.94z\"/><path d=\"M17.41 7.96l-1.37-1.37c-.4-.4-.92-.59-1.43-.59-.52 0-1.04.2-1.43.59L10.3 9.45l-7.72 7.72c-.78.78-.78 2.05 0 2.83L4 21.41c.39.39.9.59 1.41.59.51 0 1.02-.2 1.41-.59l7.78-7.78 2.81-2.81c.8-.78.8-2.07 0-2.86zM5.41 20L4 18.59l7.72-7.72 1.47 1.35L5.41 20z\"/>\n",
              "  </svg>\n",
              "      </button>\n",
              "      \n",
              "  <style>\n",
              "    .colab-df-container {\n",
              "      display:flex;\n",
              "      flex-wrap:wrap;\n",
              "      gap: 12px;\n",
              "    }\n",
              "\n",
              "    .colab-df-convert {\n",
              "      background-color: #E8F0FE;\n",
              "      border: none;\n",
              "      border-radius: 50%;\n",
              "      cursor: pointer;\n",
              "      display: none;\n",
              "      fill: #1967D2;\n",
              "      height: 32px;\n",
              "      padding: 0 0 0 0;\n",
              "      width: 32px;\n",
              "    }\n",
              "\n",
              "    .colab-df-convert:hover {\n",
              "      background-color: #E2EBFA;\n",
              "      box-shadow: 0px 1px 2px rgba(60, 64, 67, 0.3), 0px 1px 3px 1px rgba(60, 64, 67, 0.15);\n",
              "      fill: #174EA6;\n",
              "    }\n",
              "\n",
              "    [theme=dark] .colab-df-convert {\n",
              "      background-color: #3B4455;\n",
              "      fill: #D2E3FC;\n",
              "    }\n",
              "\n",
              "    [theme=dark] .colab-df-convert:hover {\n",
              "      background-color: #434B5C;\n",
              "      box-shadow: 0px 1px 3px 1px rgba(0, 0, 0, 0.15);\n",
              "      filter: drop-shadow(0px 1px 2px rgba(0, 0, 0, 0.3));\n",
              "      fill: #FFFFFF;\n",
              "    }\n",
              "  </style>\n",
              "\n",
              "      <script>\n",
              "        const buttonEl =\n",
              "          document.querySelector('#df-204aacd6-c61a-482b-b7cf-52394ce3179d button.colab-df-convert');\n",
              "        buttonEl.style.display =\n",
              "          google.colab.kernel.accessAllowed ? 'block' : 'none';\n",
              "\n",
              "        async function convertToInteractive(key) {\n",
              "          const element = document.querySelector('#df-204aacd6-c61a-482b-b7cf-52394ce3179d');\n",
              "          const dataTable =\n",
              "            await google.colab.kernel.invokeFunction('convertToInteractive',\n",
              "                                                     [key], {});\n",
              "          if (!dataTable) return;\n",
              "\n",
              "          const docLinkHtml = 'Like what you see? Visit the ' +\n",
              "            '<a target=\"_blank\" href=https://colab.research.google.com/notebooks/data_table.ipynb>data table notebook</a>'\n",
              "            + ' to learn more about interactive tables.';\n",
              "          element.innerHTML = '';\n",
              "          dataTable['output_type'] = 'display_data';\n",
              "          await google.colab.output.renderOutput(dataTable, element);\n",
              "          const docLink = document.createElement('div');\n",
              "          docLink.innerHTML = docLinkHtml;\n",
              "          element.appendChild(docLink);\n",
              "        }\n",
              "      </script>\n",
              "    </div>\n",
              "  </div>\n",
              "  "
            ]
          },
          "metadata": {},
          "execution_count": 87
        }
      ],
      "source": [
        "df = pd.read_excel('/content/BD-2.xlsx',\n",
        "                   engine='openpyxl',\n",
        "                   #sheet_name= 1,\n",
        "                   skiprows=14\n",
        "                   )\n",
        "df.head(2)"
      ]
    },
    {
      "cell_type": "markdown",
      "metadata": {
        "id": "TQlhf-69YfjG"
      },
      "source": [
        "# Data Engineering"
      ]
    },
    {
      "cell_type": "markdown",
      "source": [
        "**Considering that the `null` objects found in the dataset is due to absence of fill in in the columns `2021` and `2022`,  the recomendation is to apply a function that will erase the objects `nan`. Also considering that the columns `2021` and `2022` record the occurrence in the specif year, it'll be create a *unique column* `Year` for the records and its values according the year that occured.**\n",
        "\n",
        "*PS: the new column will be created at the end of the dataset*"
      ],
      "metadata": {
        "id": "GmwbW8vqVHvN"
      }
    },
    {
      "cell_type": "code",
      "source": [
        "df['2021'] = df['2021'].apply(str).str.replace('1', '2021')\n",
        "df['2022'] = df['2022'].apply(str).str.replace('1', '2022')\n",
        "\n",
        "# deleting nan\n",
        "df['2021'] = df['2021'].str.replace('nan', '')\n",
        "df['2022'] = df['2022'].str.replace('nan', '')\n",
        "\n",
        "# deleting .0\n",
        "df['2021'] = df['2021'].str.replace('2021.0', '2021')\n",
        "df['2022'] = df['2022'].str.replace('2022.0', '2022')"
      ],
      "metadata": {
        "id": "ia6Ol6frgDUI",
        "colab": {
          "base_uri": "https://localhost:8080/"
        },
        "outputId": "2a351955-c5ce-4ad9-96b7-4309c7103888"
      },
      "execution_count": 88,
      "outputs": [
        {
          "output_type": "stream",
          "name": "stderr",
          "text": [
            "<ipython-input-88-3e113b41372c>:9: FutureWarning: The default value of regex will change from True to False in a future version.\n",
            "  df['2021'] = df['2021'].str.replace('2021.0', '2021')\n",
            "<ipython-input-88-3e113b41372c>:10: FutureWarning: The default value of regex will change from True to False in a future version.\n",
            "  df['2022'] = df['2022'].str.replace('2022.0', '2022')\n"
          ]
        }
      ]
    },
    {
      "cell_type": "code",
      "source": [
        "# creating a new column\n",
        "df[\"Year\"] = df['2021'] + df['2022']"
      ],
      "metadata": {
        "id": "8sEOBZwJS3-0"
      },
      "execution_count": 89,
      "outputs": []
    },
    {
      "cell_type": "code",
      "source": [
        "# Deleting old columns\n",
        "df.drop(columns=[\"2021\", \"2022\"], inplace=True)"
      ],
      "metadata": {
        "id": "skm_SuOuTDOC"
      },
      "execution_count": 90,
      "outputs": []
    },
    {
      "cell_type": "markdown",
      "source": [
        "**To facilitate the reading and future data manipulation the words DISTRETTO and - VALLE DEL SAIO from column `Distretto` will be deleted**"
      ],
      "metadata": {
        "id": "4ZMus7uQWtxA"
      }
    },
    {
      "cell_type": "code",
      "source": [
        "df['Distretto'] = df['Distretto'].str.replace('DISTRETTO','')\n",
        "df['Distretto'] = df['Distretto'].str.replace('- VALLE DEL SAVIO', '')"
      ],
      "metadata": {
        "id": "4P27oT4eSuCg"
      },
      "execution_count": 91,
      "outputs": []
    },
    {
      "cell_type": "markdown",
      "source": [
        "**Creating a new colunm `Giorni di recuvero` in the dataset with number of hospitalization days and changing colunm type `Giorno di ricuvero` from `datetime` to `object`**\n",
        "\n",
        "*PS: the new column will be created at the end of the dataset*"
      ],
      "metadata": {
        "id": "wTfLmOWzQLn5"
      }
    },
    {
      "cell_type": "code",
      "source": [
        "df['Giorni di ricuvero'] = df['Data Dimissione'] - df['Data Ammissione']\n",
        "df['Giorni di ricuvero'] = df['Giorni di ricuvero'].apply(str).str.replace('days', '')\n",
        "df['Giorni di ricuvero'] = df['Giorni di ricuvero'].str.replace('NaT', '0')\n",
        "df['Giorni di ricuvero'] = df['Giorni di ricuvero'].str.replace('  00:00:00', '')\n",
        "\n",
        "df.head(2)"
      ],
      "metadata": {
        "colab": {
          "base_uri": "https://localhost:8080/",
          "height": 311
        },
        "id": "g6Nm33_yGWvo",
        "outputId": "235b9cd4-19e5-467e-dd19-479def9b580f"
      },
      "execution_count": 92,
      "outputs": [
        {
          "output_type": "execute_result",
          "data": {
            "text/plain": [
              "        Distretto                                Str. Residenziale  \\\n",
              "0  035 -  RAVENNA  S00290 - CASA RESIDENZA PER ANZIANI \"ZALAMBANI\"   \n",
              "1  035 -  RAVENNA  S00290 - CASA RESIDENZA PER ANZIANI \"ZALAMBANI\"   \n",
              "\n",
              "     Identificativo Ospite Flg FU    Identificativo accesso PS  \\\n",
              "0  7663318^S00290^20220101      N  080114^080072^2022400146452   \n",
              "1  7669995^S00290^20220817      N  080114^080072^2022400110197   \n",
              "\n",
              "  Data accesso PS Ora accesso PS  \\\n",
              "0      2022-11-29          10:30   \n",
              "1      2022-09-06          11:33   \n",
              "\n",
              "                              Diagnosi principale PS Identificativo SDO  \\\n",
              "0  4270 - TACHICARDIA PAROSSISTICA SOPRAVENTRICOLARE                  -   \n",
              "1             7806 - FEBBRE (DI ORIGINE SCONOSCIUTA)    080072^22018570   \n",
              "\n",
              "  Data Ammissione Data Dimissione Modalità Dim  Year Giorni di ricuvero  \n",
              "0             NaT             NaT          NaN  2022                  0  \n",
              "1      2022-09-06      2022-09-15     DECEDUTO  2022                  9  "
            ],
            "text/html": [
              "\n",
              "  <div id=\"df-510cbe06-fd9b-478e-a618-1f9f6e0ef958\">\n",
              "    <div class=\"colab-df-container\">\n",
              "      <div>\n",
              "<style scoped>\n",
              "    .dataframe tbody tr th:only-of-type {\n",
              "        vertical-align: middle;\n",
              "    }\n",
              "\n",
              "    .dataframe tbody tr th {\n",
              "        vertical-align: top;\n",
              "    }\n",
              "\n",
              "    .dataframe thead th {\n",
              "        text-align: right;\n",
              "    }\n",
              "</style>\n",
              "<table border=\"1\" class=\"dataframe\">\n",
              "  <thead>\n",
              "    <tr style=\"text-align: right;\">\n",
              "      <th></th>\n",
              "      <th>Distretto</th>\n",
              "      <th>Str. Residenziale</th>\n",
              "      <th>Identificativo Ospite</th>\n",
              "      <th>Flg FU</th>\n",
              "      <th>Identificativo accesso PS</th>\n",
              "      <th>Data accesso PS</th>\n",
              "      <th>Ora accesso PS</th>\n",
              "      <th>Diagnosi principale PS</th>\n",
              "      <th>Identificativo SDO</th>\n",
              "      <th>Data Ammissione</th>\n",
              "      <th>Data Dimissione</th>\n",
              "      <th>Modalità Dim</th>\n",
              "      <th>Year</th>\n",
              "      <th>Giorni di ricuvero</th>\n",
              "    </tr>\n",
              "  </thead>\n",
              "  <tbody>\n",
              "    <tr>\n",
              "      <th>0</th>\n",
              "      <td>035 -  RAVENNA</td>\n",
              "      <td>S00290 - CASA RESIDENZA PER ANZIANI \"ZALAMBANI\"</td>\n",
              "      <td>7663318^S00290^20220101</td>\n",
              "      <td>N</td>\n",
              "      <td>080114^080072^2022400146452</td>\n",
              "      <td>2022-11-29</td>\n",
              "      <td>10:30</td>\n",
              "      <td>4270 - TACHICARDIA PAROSSISTICA SOPRAVENTRICOLARE</td>\n",
              "      <td>-</td>\n",
              "      <td>NaT</td>\n",
              "      <td>NaT</td>\n",
              "      <td>NaN</td>\n",
              "      <td>2022</td>\n",
              "      <td>0</td>\n",
              "    </tr>\n",
              "    <tr>\n",
              "      <th>1</th>\n",
              "      <td>035 -  RAVENNA</td>\n",
              "      <td>S00290 - CASA RESIDENZA PER ANZIANI \"ZALAMBANI\"</td>\n",
              "      <td>7669995^S00290^20220817</td>\n",
              "      <td>N</td>\n",
              "      <td>080114^080072^2022400110197</td>\n",
              "      <td>2022-09-06</td>\n",
              "      <td>11:33</td>\n",
              "      <td>7806 - FEBBRE (DI ORIGINE SCONOSCIUTA)</td>\n",
              "      <td>080072^22018570</td>\n",
              "      <td>2022-09-06</td>\n",
              "      <td>2022-09-15</td>\n",
              "      <td>DECEDUTO</td>\n",
              "      <td>2022</td>\n",
              "      <td>9</td>\n",
              "    </tr>\n",
              "  </tbody>\n",
              "</table>\n",
              "</div>\n",
              "      <button class=\"colab-df-convert\" onclick=\"convertToInteractive('df-510cbe06-fd9b-478e-a618-1f9f6e0ef958')\"\n",
              "              title=\"Convert this dataframe to an interactive table.\"\n",
              "              style=\"display:none;\">\n",
              "        \n",
              "  <svg xmlns=\"http://www.w3.org/2000/svg\" height=\"24px\"viewBox=\"0 0 24 24\"\n",
              "       width=\"24px\">\n",
              "    <path d=\"M0 0h24v24H0V0z\" fill=\"none\"/>\n",
              "    <path d=\"M18.56 5.44l.94 2.06.94-2.06 2.06-.94-2.06-.94-.94-2.06-.94 2.06-2.06.94zm-11 1L8.5 8.5l.94-2.06 2.06-.94-2.06-.94L8.5 2.5l-.94 2.06-2.06.94zm10 10l.94 2.06.94-2.06 2.06-.94-2.06-.94-.94-2.06-.94 2.06-2.06.94z\"/><path d=\"M17.41 7.96l-1.37-1.37c-.4-.4-.92-.59-1.43-.59-.52 0-1.04.2-1.43.59L10.3 9.45l-7.72 7.72c-.78.78-.78 2.05 0 2.83L4 21.41c.39.39.9.59 1.41.59.51 0 1.02-.2 1.41-.59l7.78-7.78 2.81-2.81c.8-.78.8-2.07 0-2.86zM5.41 20L4 18.59l7.72-7.72 1.47 1.35L5.41 20z\"/>\n",
              "  </svg>\n",
              "      </button>\n",
              "      \n",
              "  <style>\n",
              "    .colab-df-container {\n",
              "      display:flex;\n",
              "      flex-wrap:wrap;\n",
              "      gap: 12px;\n",
              "    }\n",
              "\n",
              "    .colab-df-convert {\n",
              "      background-color: #E8F0FE;\n",
              "      border: none;\n",
              "      border-radius: 50%;\n",
              "      cursor: pointer;\n",
              "      display: none;\n",
              "      fill: #1967D2;\n",
              "      height: 32px;\n",
              "      padding: 0 0 0 0;\n",
              "      width: 32px;\n",
              "    }\n",
              "\n",
              "    .colab-df-convert:hover {\n",
              "      background-color: #E2EBFA;\n",
              "      box-shadow: 0px 1px 2px rgba(60, 64, 67, 0.3), 0px 1px 3px 1px rgba(60, 64, 67, 0.15);\n",
              "      fill: #174EA6;\n",
              "    }\n",
              "\n",
              "    [theme=dark] .colab-df-convert {\n",
              "      background-color: #3B4455;\n",
              "      fill: #D2E3FC;\n",
              "    }\n",
              "\n",
              "    [theme=dark] .colab-df-convert:hover {\n",
              "      background-color: #434B5C;\n",
              "      box-shadow: 0px 1px 3px 1px rgba(0, 0, 0, 0.15);\n",
              "      filter: drop-shadow(0px 1px 2px rgba(0, 0, 0, 0.3));\n",
              "      fill: #FFFFFF;\n",
              "    }\n",
              "  </style>\n",
              "\n",
              "      <script>\n",
              "        const buttonEl =\n",
              "          document.querySelector('#df-510cbe06-fd9b-478e-a618-1f9f6e0ef958 button.colab-df-convert');\n",
              "        buttonEl.style.display =\n",
              "          google.colab.kernel.accessAllowed ? 'block' : 'none';\n",
              "\n",
              "        async function convertToInteractive(key) {\n",
              "          const element = document.querySelector('#df-510cbe06-fd9b-478e-a618-1f9f6e0ef958');\n",
              "          const dataTable =\n",
              "            await google.colab.kernel.invokeFunction('convertToInteractive',\n",
              "                                                     [key], {});\n",
              "          if (!dataTable) return;\n",
              "\n",
              "          const docLinkHtml = 'Like what you see? Visit the ' +\n",
              "            '<a target=\"_blank\" href=https://colab.research.google.com/notebooks/data_table.ipynb>data table notebook</a>'\n",
              "            + ' to learn more about interactive tables.';\n",
              "          element.innerHTML = '';\n",
              "          dataTable['output_type'] = 'display_data';\n",
              "          await google.colab.output.renderOutput(dataTable, element);\n",
              "          const docLink = document.createElement('div');\n",
              "          docLink.innerHTML = docLinkHtml;\n",
              "          element.appendChild(docLink);\n",
              "        }\n",
              "      </script>\n",
              "    </div>\n",
              "  </div>\n",
              "  "
            ]
          },
          "metadata": {},
          "execution_count": 92
        }
      ]
    },
    {
      "cell_type": "code",
      "source": [
        "df['Giorni di ricuvero'] = pd.to_numeric(df['Giorni di ricuvero'])\n",
        "df.dtypes"
      ],
      "metadata": {
        "colab": {
          "base_uri": "https://localhost:8080/"
        },
        "id": "q_oHFaFh0sCu",
        "outputId": "3e5a12b5-626e-4f2e-e9cc-24521d420e09"
      },
      "execution_count": 93,
      "outputs": [
        {
          "output_type": "execute_result",
          "data": {
            "text/plain": [
              "Distretto                            object\n",
              "Str. Residenziale                    object\n",
              "Identificativo Ospite                object\n",
              "Flg FU                               object\n",
              "Identificativo accesso PS            object\n",
              "Data accesso PS              datetime64[ns]\n",
              "Ora accesso PS                       object\n",
              "Diagnosi principale PS               object\n",
              "Identificativo SDO                   object\n",
              "Data Ammissione              datetime64[ns]\n",
              "Data Dimissione              datetime64[ns]\n",
              "Modalità Dim                         object\n",
              "Year                                 object\n",
              "Giorni di ricuvero                    int64\n",
              "dtype: object"
            ]
          },
          "metadata": {},
          "execution_count": 93
        }
      ]
    },
    {
      "cell_type": "markdown",
      "source": [
        "**Checking how many `null` objects we have in the datase**t"
      ],
      "metadata": {
        "id": "IrAIW-6f2TCO"
      }
    },
    {
      "cell_type": "code",
      "source": [
        "df.isnull().sum()"
      ],
      "metadata": {
        "colab": {
          "base_uri": "https://localhost:8080/"
        },
        "id": "Id-78nsP2VPY",
        "outputId": "407e7142-e9f2-4b89-a9a8-ad3882a0f7db"
      },
      "execution_count": 94,
      "outputs": [
        {
          "output_type": "execute_result",
          "data": {
            "text/plain": [
              "Distretto                       0\n",
              "Str. Residenziale               0\n",
              "Identificativo Ospite           0\n",
              "Flg FU                          0\n",
              "Identificativo accesso PS       0\n",
              "Data accesso PS                 0\n",
              "Ora accesso PS                  0\n",
              "Diagnosi principale PS          0\n",
              "Identificativo SDO              0\n",
              "Data Ammissione              3714\n",
              "Data Dimissione              3714\n",
              "Modalità Dim                 3714\n",
              "Year                            0\n",
              "Giorni di ricuvero              0\n",
              "dtype: int64"
            ]
          },
          "metadata": {},
          "execution_count": 94
        }
      ]
    },
    {
      "cell_type": "markdown",
      "metadata": {
        "id": "fnpYXwEhXufv"
      },
      "source": [
        "**Split values in the columns for future analysis**"
      ]
    },
    {
      "cell_type": "code",
      "execution_count": 95,
      "metadata": {
        "id": "9nM_coT_DraU"
      },
      "outputs": [],
      "source": [
        "# new data frame with values splited\n",
        "new = df['Distretto'].str.split(\"-\", expand=True)\n",
        "new1 = df['Identificativo Ospite'].str.split(\"^\", expand=True)\n",
        "new2 = df['Identificativo accesso PS'].str.split(\"^\", expand=True)\n",
        "new3 = df['Identificativo SDO'].str.split(\"^\", expand=True)\n",
        "\n",
        "# separating colunms from the new data frame\n",
        "df[\"cod_Distretto\"] = new[0]\n",
        "df[\"Nome Distretto\"] = new[1] \n",
        "df[\"cod_ID_Osp_1\"] = new1[0]\n",
        "df[\"cod_ID_Osp_2\"] = new1[1]\n",
        "df[\"cod_ID_Osp_3\"] = new1[2]\n",
        "df[\"cod_ID_Accesso_PS_1\"] = new2[0]\n",
        "df[\"cod_ID_Accesso_PS_2\"] = new2[1]\n",
        "df[\"cod_ID_Accesso_PS_3\"] = new2[1]\n",
        "df[\"cod_ID_SDO_1\"] = new3[0]\n",
        "df[\"cod_ID_SDO_2\"] = new3[1]"
      ]
    },
    {
      "cell_type": "markdown",
      "metadata": {
        "id": "87CeN_88X3AN"
      },
      "source": [
        "**Deleting old columns**"
      ]
    },
    {
      "cell_type": "code",
      "execution_count": 96,
      "metadata": {
        "id": "KlEm1dZgJUnT"
      },
      "outputs": [],
      "source": [
        "# Deleting old columns\n",
        "df.drop(columns=[\"Distretto\"], inplace=True)\n",
        "df.drop(columns=[\"Identificativo Ospite\"], inplace=True)\n",
        "df.drop(columns=[\"Identificativo accesso PS\"], inplace=True)\n",
        "df.drop(columns=[\"Identificativo SDO\"], inplace=True)"
      ]
    },
    {
      "cell_type": "markdown",
      "source": [
        "**Checking the dataframe shape and variales type**"
      ],
      "metadata": {
        "id": "RfvGJcUAQEik"
      }
    },
    {
      "cell_type": "code",
      "execution_count": 97,
      "metadata": {
        "colab": {
          "base_uri": "https://localhost:8080/"
        },
        "id": "n5qs4YcrP8yL",
        "outputId": "6febc249-a82c-40a8-c875-e049bedb931e"
      },
      "outputs": [
        {
          "output_type": "execute_result",
          "data": {
            "text/plain": [
              "(7142, 20)"
            ]
          },
          "metadata": {},
          "execution_count": 97
        }
      ],
      "source": [
        "df.shape"
      ]
    },
    {
      "cell_type": "code",
      "source": [
        "df.dtypes"
      ],
      "metadata": {
        "colab": {
          "base_uri": "https://localhost:8080/"
        },
        "id": "xBv7DtpGCbn-",
        "outputId": "d59cb5fe-bec5-4794-ef4c-e6e586b99f0f"
      },
      "execution_count": 98,
      "outputs": [
        {
          "output_type": "execute_result",
          "data": {
            "text/plain": [
              "Str. Residenziale                 object\n",
              "Flg FU                            object\n",
              "Data accesso PS           datetime64[ns]\n",
              "Ora accesso PS                    object\n",
              "Diagnosi principale PS            object\n",
              "Data Ammissione           datetime64[ns]\n",
              "Data Dimissione           datetime64[ns]\n",
              "Modalità Dim                      object\n",
              "Year                              object\n",
              "Giorni di ricuvero                 int64\n",
              "cod_Distretto                     object\n",
              "Nome Distretto                    object\n",
              "cod_ID_Osp_1                      object\n",
              "cod_ID_Osp_2                      object\n",
              "cod_ID_Osp_3                      object\n",
              "cod_ID_Accesso_PS_1               object\n",
              "cod_ID_Accesso_PS_2               object\n",
              "cod_ID_Accesso_PS_3               object\n",
              "cod_ID_SDO_1                      object\n",
              "cod_ID_SDO_2                      object\n",
              "dtype: object"
            ]
          },
          "metadata": {},
          "execution_count": 98
        }
      ]
    },
    {
      "cell_type": "markdown",
      "metadata": {
        "id": "0fxIT4_bC_xX"
      },
      "source": [
        "**For consistency, ensure that all column labels of type string.**"
      ]
    },
    {
      "cell_type": "code",
      "execution_count": 99,
      "metadata": {
        "colab": {
          "base_uri": "https://localhost:8080/"
        },
        "id": "-_54_4BYDAA_",
        "outputId": "b1130c64-db00-4463-b93a-11d6a9eec01b"
      },
      "outputs": [
        {
          "output_type": "execute_result",
          "data": {
            "text/plain": [
              "True"
            ]
          },
          "metadata": {},
          "execution_count": 99
        }
      ],
      "source": [
        "# let's examine the types of the column labels\n",
        "all(isinstance(column, str) for column in df.columns)"
      ]
    },
    {
      "cell_type": "markdown",
      "metadata": {
        "id": "Ujrhh81yDkNM"
      },
      "source": [
        "\n",
        "**Set the Nome Distretto as index - useful for quickly looking up `Distretto` using `.loc` method**"
      ]
    },
    {
      "cell_type": "code",
      "execution_count": 100,
      "metadata": {
        "id": "g90cd8qXDlTC",
        "colab": {
          "base_uri": "https://localhost:8080/",
          "height": 605
        },
        "outputId": "afc2836e-c703-49b9-cced-0e19f1e9aa49"
      },
      "outputs": [
        {
          "output_type": "execute_result",
          "data": {
            "text/plain": [
              "                                              Str. Residenziale Flg FU  \\\n",
              "Nome Distretto                                                           \n",
              "  RAVENNA       S00290 - CASA RESIDENZA PER ANZIANI \"ZALAMBANI\"      N   \n",
              "  RAVENNA       S00290 - CASA RESIDENZA PER ANZIANI \"ZALAMBANI\"      N   \n",
              "  RAVENNA       S00290 - CASA RESIDENZA PER ANZIANI \"ZALAMBANI\"      N   \n",
              "  RAVENNA       S00290 - CASA RESIDENZA PER ANZIANI \"ZALAMBANI\"      N   \n",
              "  RAVENNA       S00290 - CASA RESIDENZA PER ANZIANI \"ZALAMBANI\"      N   \n",
              "\n",
              "               Data accesso PS Ora accesso PS  \\\n",
              "Nome Distretto                                  \n",
              "  RAVENNA           2022-11-29          10:30   \n",
              "  RAVENNA           2022-09-06          11:33   \n",
              "  RAVENNA           2021-06-02          13:18   \n",
              "  RAVENNA           2021-05-14          12:33   \n",
              "  RAVENNA           2022-02-21          19:13   \n",
              "\n",
              "                                           Diagnosi principale PS  \\\n",
              "Nome Distretto                                                      \n",
              "  RAVENNA       4270 - TACHICARDIA PAROSSISTICA SOPRAVENTRICOLARE   \n",
              "  RAVENNA                  7806 - FEBBRE (DI ORIGINE SCONOSCIUTA)   \n",
              "  RAVENNA       3069 - DISFUNZIONI PSICOFISIOLOGICHE NON SPECI...   \n",
              "  RAVENNA       3009 - DISTURBI PSICHICI NON PSICOTICI NON SPE...   \n",
              "  RAVENNA                                  27651 - DISIDRATAZIONE   \n",
              "\n",
              "               Data Ammissione Data Dimissione Modalità Dim  Year  \\\n",
              "Nome Distretto                                                      \n",
              "  RAVENNA                  NaT             NaT          NaN  2022   \n",
              "  RAVENNA           2022-09-06      2022-09-15     DECEDUTO  2022   \n",
              "  RAVENNA                  NaT             NaT          NaN  2021   \n",
              "  RAVENNA                  NaT             NaT          NaN  2021   \n",
              "  RAVENNA                  NaT             NaT          NaN  2022   \n",
              "\n",
              "                Giorni di ricuvero cod_Distretto cod_ID_Osp_1 cod_ID_Osp_2  \\\n",
              "Nome Distretto                                                               \n",
              "  RAVENNA                        0          035       7663318       S00290   \n",
              "  RAVENNA                        9          035       7669995       S00290   \n",
              "  RAVENNA                        0          035       7705419       S00290   \n",
              "  RAVENNA                        0          035       7752042       S00290   \n",
              "  RAVENNA                        0          035       7781884       S00290   \n",
              "\n",
              "               cod_ID_Osp_3 cod_ID_Accesso_PS_1 cod_ID_Accesso_PS_2  \\\n",
              "Nome Distretto                                                        \n",
              "  RAVENNA          20220101              080114              080072   \n",
              "  RAVENNA          20220817              080114              080072   \n",
              "  RAVENNA          20210518              080114              080072   \n",
              "  RAVENNA          20210304              080114              080072   \n",
              "  RAVENNA          20220101              080114              080072   \n",
              "\n",
              "               cod_ID_Accesso_PS_3 cod_ID_SDO_1 cod_ID_SDO_2  \n",
              "Nome Distretto                                                \n",
              "  RAVENNA                   080072            -         None  \n",
              "  RAVENNA                   080072       080072     22018570  \n",
              "  RAVENNA                   080072            -         None  \n",
              "  RAVENNA                   080072            -         None  \n",
              "  RAVENNA                   080072            -         None  "
            ],
            "text/html": [
              "\n",
              "  <div id=\"df-be30f4e0-e81d-41b5-a630-60ff4a81b83a\">\n",
              "    <div class=\"colab-df-container\">\n",
              "      <div>\n",
              "<style scoped>\n",
              "    .dataframe tbody tr th:only-of-type {\n",
              "        vertical-align: middle;\n",
              "    }\n",
              "\n",
              "    .dataframe tbody tr th {\n",
              "        vertical-align: top;\n",
              "    }\n",
              "\n",
              "    .dataframe thead th {\n",
              "        text-align: right;\n",
              "    }\n",
              "</style>\n",
              "<table border=\"1\" class=\"dataframe\">\n",
              "  <thead>\n",
              "    <tr style=\"text-align: right;\">\n",
              "      <th></th>\n",
              "      <th>Str. Residenziale</th>\n",
              "      <th>Flg FU</th>\n",
              "      <th>Data accesso PS</th>\n",
              "      <th>Ora accesso PS</th>\n",
              "      <th>Diagnosi principale PS</th>\n",
              "      <th>Data Ammissione</th>\n",
              "      <th>Data Dimissione</th>\n",
              "      <th>Modalità Dim</th>\n",
              "      <th>Year</th>\n",
              "      <th>Giorni di ricuvero</th>\n",
              "      <th>cod_Distretto</th>\n",
              "      <th>cod_ID_Osp_1</th>\n",
              "      <th>cod_ID_Osp_2</th>\n",
              "      <th>cod_ID_Osp_3</th>\n",
              "      <th>cod_ID_Accesso_PS_1</th>\n",
              "      <th>cod_ID_Accesso_PS_2</th>\n",
              "      <th>cod_ID_Accesso_PS_3</th>\n",
              "      <th>cod_ID_SDO_1</th>\n",
              "      <th>cod_ID_SDO_2</th>\n",
              "    </tr>\n",
              "    <tr>\n",
              "      <th>Nome Distretto</th>\n",
              "      <th></th>\n",
              "      <th></th>\n",
              "      <th></th>\n",
              "      <th></th>\n",
              "      <th></th>\n",
              "      <th></th>\n",
              "      <th></th>\n",
              "      <th></th>\n",
              "      <th></th>\n",
              "      <th></th>\n",
              "      <th></th>\n",
              "      <th></th>\n",
              "      <th></th>\n",
              "      <th></th>\n",
              "      <th></th>\n",
              "      <th></th>\n",
              "      <th></th>\n",
              "      <th></th>\n",
              "      <th></th>\n",
              "    </tr>\n",
              "  </thead>\n",
              "  <tbody>\n",
              "    <tr>\n",
              "      <th>RAVENNA</th>\n",
              "      <td>S00290 - CASA RESIDENZA PER ANZIANI \"ZALAMBANI\"</td>\n",
              "      <td>N</td>\n",
              "      <td>2022-11-29</td>\n",
              "      <td>10:30</td>\n",
              "      <td>4270 - TACHICARDIA PAROSSISTICA SOPRAVENTRICOLARE</td>\n",
              "      <td>NaT</td>\n",
              "      <td>NaT</td>\n",
              "      <td>NaN</td>\n",
              "      <td>2022</td>\n",
              "      <td>0</td>\n",
              "      <td>035</td>\n",
              "      <td>7663318</td>\n",
              "      <td>S00290</td>\n",
              "      <td>20220101</td>\n",
              "      <td>080114</td>\n",
              "      <td>080072</td>\n",
              "      <td>080072</td>\n",
              "      <td>-</td>\n",
              "      <td>None</td>\n",
              "    </tr>\n",
              "    <tr>\n",
              "      <th>RAVENNA</th>\n",
              "      <td>S00290 - CASA RESIDENZA PER ANZIANI \"ZALAMBANI\"</td>\n",
              "      <td>N</td>\n",
              "      <td>2022-09-06</td>\n",
              "      <td>11:33</td>\n",
              "      <td>7806 - FEBBRE (DI ORIGINE SCONOSCIUTA)</td>\n",
              "      <td>2022-09-06</td>\n",
              "      <td>2022-09-15</td>\n",
              "      <td>DECEDUTO</td>\n",
              "      <td>2022</td>\n",
              "      <td>9</td>\n",
              "      <td>035</td>\n",
              "      <td>7669995</td>\n",
              "      <td>S00290</td>\n",
              "      <td>20220817</td>\n",
              "      <td>080114</td>\n",
              "      <td>080072</td>\n",
              "      <td>080072</td>\n",
              "      <td>080072</td>\n",
              "      <td>22018570</td>\n",
              "    </tr>\n",
              "    <tr>\n",
              "      <th>RAVENNA</th>\n",
              "      <td>S00290 - CASA RESIDENZA PER ANZIANI \"ZALAMBANI\"</td>\n",
              "      <td>N</td>\n",
              "      <td>2021-06-02</td>\n",
              "      <td>13:18</td>\n",
              "      <td>3069 - DISFUNZIONI PSICOFISIOLOGICHE NON SPECI...</td>\n",
              "      <td>NaT</td>\n",
              "      <td>NaT</td>\n",
              "      <td>NaN</td>\n",
              "      <td>2021</td>\n",
              "      <td>0</td>\n",
              "      <td>035</td>\n",
              "      <td>7705419</td>\n",
              "      <td>S00290</td>\n",
              "      <td>20210518</td>\n",
              "      <td>080114</td>\n",
              "      <td>080072</td>\n",
              "      <td>080072</td>\n",
              "      <td>-</td>\n",
              "      <td>None</td>\n",
              "    </tr>\n",
              "    <tr>\n",
              "      <th>RAVENNA</th>\n",
              "      <td>S00290 - CASA RESIDENZA PER ANZIANI \"ZALAMBANI\"</td>\n",
              "      <td>N</td>\n",
              "      <td>2021-05-14</td>\n",
              "      <td>12:33</td>\n",
              "      <td>3009 - DISTURBI PSICHICI NON PSICOTICI NON SPE...</td>\n",
              "      <td>NaT</td>\n",
              "      <td>NaT</td>\n",
              "      <td>NaN</td>\n",
              "      <td>2021</td>\n",
              "      <td>0</td>\n",
              "      <td>035</td>\n",
              "      <td>7752042</td>\n",
              "      <td>S00290</td>\n",
              "      <td>20210304</td>\n",
              "      <td>080114</td>\n",
              "      <td>080072</td>\n",
              "      <td>080072</td>\n",
              "      <td>-</td>\n",
              "      <td>None</td>\n",
              "    </tr>\n",
              "    <tr>\n",
              "      <th>RAVENNA</th>\n",
              "      <td>S00290 - CASA RESIDENZA PER ANZIANI \"ZALAMBANI\"</td>\n",
              "      <td>N</td>\n",
              "      <td>2022-02-21</td>\n",
              "      <td>19:13</td>\n",
              "      <td>27651 - DISIDRATAZIONE</td>\n",
              "      <td>NaT</td>\n",
              "      <td>NaT</td>\n",
              "      <td>NaN</td>\n",
              "      <td>2022</td>\n",
              "      <td>0</td>\n",
              "      <td>035</td>\n",
              "      <td>7781884</td>\n",
              "      <td>S00290</td>\n",
              "      <td>20220101</td>\n",
              "      <td>080114</td>\n",
              "      <td>080072</td>\n",
              "      <td>080072</td>\n",
              "      <td>-</td>\n",
              "      <td>None</td>\n",
              "    </tr>\n",
              "  </tbody>\n",
              "</table>\n",
              "</div>\n",
              "      <button class=\"colab-df-convert\" onclick=\"convertToInteractive('df-be30f4e0-e81d-41b5-a630-60ff4a81b83a')\"\n",
              "              title=\"Convert this dataframe to an interactive table.\"\n",
              "              style=\"display:none;\">\n",
              "        \n",
              "  <svg xmlns=\"http://www.w3.org/2000/svg\" height=\"24px\"viewBox=\"0 0 24 24\"\n",
              "       width=\"24px\">\n",
              "    <path d=\"M0 0h24v24H0V0z\" fill=\"none\"/>\n",
              "    <path d=\"M18.56 5.44l.94 2.06.94-2.06 2.06-.94-2.06-.94-.94-2.06-.94 2.06-2.06.94zm-11 1L8.5 8.5l.94-2.06 2.06-.94-2.06-.94L8.5 2.5l-.94 2.06-2.06.94zm10 10l.94 2.06.94-2.06 2.06-.94-2.06-.94-.94-2.06-.94 2.06-2.06.94z\"/><path d=\"M17.41 7.96l-1.37-1.37c-.4-.4-.92-.59-1.43-.59-.52 0-1.04.2-1.43.59L10.3 9.45l-7.72 7.72c-.78.78-.78 2.05 0 2.83L4 21.41c.39.39.9.59 1.41.59.51 0 1.02-.2 1.41-.59l7.78-7.78 2.81-2.81c.8-.78.8-2.07 0-2.86zM5.41 20L4 18.59l7.72-7.72 1.47 1.35L5.41 20z\"/>\n",
              "  </svg>\n",
              "      </button>\n",
              "      \n",
              "  <style>\n",
              "    .colab-df-container {\n",
              "      display:flex;\n",
              "      flex-wrap:wrap;\n",
              "      gap: 12px;\n",
              "    }\n",
              "\n",
              "    .colab-df-convert {\n",
              "      background-color: #E8F0FE;\n",
              "      border: none;\n",
              "      border-radius: 50%;\n",
              "      cursor: pointer;\n",
              "      display: none;\n",
              "      fill: #1967D2;\n",
              "      height: 32px;\n",
              "      padding: 0 0 0 0;\n",
              "      width: 32px;\n",
              "    }\n",
              "\n",
              "    .colab-df-convert:hover {\n",
              "      background-color: #E2EBFA;\n",
              "      box-shadow: 0px 1px 2px rgba(60, 64, 67, 0.3), 0px 1px 3px 1px rgba(60, 64, 67, 0.15);\n",
              "      fill: #174EA6;\n",
              "    }\n",
              "\n",
              "    [theme=dark] .colab-df-convert {\n",
              "      background-color: #3B4455;\n",
              "      fill: #D2E3FC;\n",
              "    }\n",
              "\n",
              "    [theme=dark] .colab-df-convert:hover {\n",
              "      background-color: #434B5C;\n",
              "      box-shadow: 0px 1px 3px 1px rgba(0, 0, 0, 0.15);\n",
              "      filter: drop-shadow(0px 1px 2px rgba(0, 0, 0, 0.3));\n",
              "      fill: #FFFFFF;\n",
              "    }\n",
              "  </style>\n",
              "\n",
              "      <script>\n",
              "        const buttonEl =\n",
              "          document.querySelector('#df-be30f4e0-e81d-41b5-a630-60ff4a81b83a button.colab-df-convert');\n",
              "        buttonEl.style.display =\n",
              "          google.colab.kernel.accessAllowed ? 'block' : 'none';\n",
              "\n",
              "        async function convertToInteractive(key) {\n",
              "          const element = document.querySelector('#df-be30f4e0-e81d-41b5-a630-60ff4a81b83a');\n",
              "          const dataTable =\n",
              "            await google.colab.kernel.invokeFunction('convertToInteractive',\n",
              "                                                     [key], {});\n",
              "          if (!dataTable) return;\n",
              "\n",
              "          const docLinkHtml = 'Like what you see? Visit the ' +\n",
              "            '<a target=\"_blank\" href=https://colab.research.google.com/notebooks/data_table.ipynb>data table notebook</a>'\n",
              "            + ' to learn more about interactive tables.';\n",
              "          element.innerHTML = '';\n",
              "          dataTable['output_type'] = 'display_data';\n",
              "          await google.colab.output.renderOutput(dataTable, element);\n",
              "          const docLink = document.createElement('div');\n",
              "          docLink.innerHTML = docLinkHtml;\n",
              "          element.appendChild(docLink);\n",
              "        }\n",
              "      </script>\n",
              "    </div>\n",
              "  </div>\n",
              "  "
            ]
          },
          "metadata": {},
          "execution_count": 100
        }
      ],
      "source": [
        "df.set_index('Nome Distretto', inplace=True)\n",
        "\n",
        "# Let's view the first five elements and see how the dataframe was changed\n",
        "df.head()"
      ]
    },
    {
      "cell_type": "markdown",
      "metadata": {
        "id": "h0YOfgfYUkyM"
      },
      "source": [
        " **To get the index and columns as lists, was used the tolist() method.**"
      ]
    },
    {
      "cell_type": "code",
      "execution_count": 101,
      "metadata": {
        "id": "A6ZHT7IcTTZQ",
        "colab": {
          "base_uri": "https://localhost:8080/"
        },
        "outputId": "237bd4b4-90cd-4efb-8fe5-3fe7fce64097"
      },
      "outputs": [
        {
          "output_type": "execute_result",
          "data": {
            "text/plain": [
              "['Str. Residenziale',\n",
              " 'Flg FU',\n",
              " 'Data accesso PS',\n",
              " 'Ora accesso PS',\n",
              " 'Diagnosi principale PS',\n",
              " 'Data Ammissione',\n",
              " 'Data Dimissione',\n",
              " 'Modalità Dim',\n",
              " 'Year',\n",
              " 'Giorni di ricuvero',\n",
              " 'cod_Distretto',\n",
              " 'cod_ID_Osp_1',\n",
              " 'cod_ID_Osp_2',\n",
              " 'cod_ID_Osp_3',\n",
              " 'cod_ID_Accesso_PS_1',\n",
              " 'cod_ID_Accesso_PS_2',\n",
              " 'cod_ID_Accesso_PS_3',\n",
              " 'cod_ID_SDO_1',\n",
              " 'cod_ID_SDO_2']"
            ]
          },
          "metadata": {},
          "execution_count": 101
        }
      ],
      "source": [
        "df.columns.tolist()"
      ]
    },
    {
      "cell_type": "code",
      "execution_count": null,
      "metadata": {
        "id": "Jmls5LfwT7wC"
      },
      "outputs": [],
      "source": [
        "df.index.tolist()"
      ]
    },
    {
      "cell_type": "markdown",
      "metadata": {
        "id": "Rk6-YwEXYxHu"
      },
      "source": [
        "**A quick view summary of each column in our dataframe using the `describe()` method.**"
      ]
    },
    {
      "cell_type": "code",
      "execution_count": 105,
      "metadata": {
        "colab": {
          "base_uri": "https://localhost:8080/",
          "height": 297
        },
        "id": "zZKktuTmZC9r",
        "outputId": "cecbfbd0-1829-467b-8ef9-9f5380852890"
      },
      "outputs": [
        {
          "output_type": "execute_result",
          "data": {
            "text/plain": [
              "       Giorni di ricuvero\n",
              "count         7142.000000\n",
              "mean             4.761131\n",
              "std              7.664551\n",
              "min              0.000000\n",
              "25%              0.000000\n",
              "50%              0.000000\n",
              "75%              8.000000\n",
              "max             82.000000"
            ],
            "text/html": [
              "\n",
              "  <div id=\"df-f7c30643-f38b-4873-96ca-6a94468a2652\">\n",
              "    <div class=\"colab-df-container\">\n",
              "      <div>\n",
              "<style scoped>\n",
              "    .dataframe tbody tr th:only-of-type {\n",
              "        vertical-align: middle;\n",
              "    }\n",
              "\n",
              "    .dataframe tbody tr th {\n",
              "        vertical-align: top;\n",
              "    }\n",
              "\n",
              "    .dataframe thead th {\n",
              "        text-align: right;\n",
              "    }\n",
              "</style>\n",
              "<table border=\"1\" class=\"dataframe\">\n",
              "  <thead>\n",
              "    <tr style=\"text-align: right;\">\n",
              "      <th></th>\n",
              "      <th>Giorni di ricuvero</th>\n",
              "    </tr>\n",
              "  </thead>\n",
              "  <tbody>\n",
              "    <tr>\n",
              "      <th>count</th>\n",
              "      <td>7142.000000</td>\n",
              "    </tr>\n",
              "    <tr>\n",
              "      <th>mean</th>\n",
              "      <td>4.761131</td>\n",
              "    </tr>\n",
              "    <tr>\n",
              "      <th>std</th>\n",
              "      <td>7.664551</td>\n",
              "    </tr>\n",
              "    <tr>\n",
              "      <th>min</th>\n",
              "      <td>0.000000</td>\n",
              "    </tr>\n",
              "    <tr>\n",
              "      <th>25%</th>\n",
              "      <td>0.000000</td>\n",
              "    </tr>\n",
              "    <tr>\n",
              "      <th>50%</th>\n",
              "      <td>0.000000</td>\n",
              "    </tr>\n",
              "    <tr>\n",
              "      <th>75%</th>\n",
              "      <td>8.000000</td>\n",
              "    </tr>\n",
              "    <tr>\n",
              "      <th>max</th>\n",
              "      <td>82.000000</td>\n",
              "    </tr>\n",
              "  </tbody>\n",
              "</table>\n",
              "</div>\n",
              "      <button class=\"colab-df-convert\" onclick=\"convertToInteractive('df-f7c30643-f38b-4873-96ca-6a94468a2652')\"\n",
              "              title=\"Convert this dataframe to an interactive table.\"\n",
              "              style=\"display:none;\">\n",
              "        \n",
              "  <svg xmlns=\"http://www.w3.org/2000/svg\" height=\"24px\"viewBox=\"0 0 24 24\"\n",
              "       width=\"24px\">\n",
              "    <path d=\"M0 0h24v24H0V0z\" fill=\"none\"/>\n",
              "    <path d=\"M18.56 5.44l.94 2.06.94-2.06 2.06-.94-2.06-.94-.94-2.06-.94 2.06-2.06.94zm-11 1L8.5 8.5l.94-2.06 2.06-.94-2.06-.94L8.5 2.5l-.94 2.06-2.06.94zm10 10l.94 2.06.94-2.06 2.06-.94-2.06-.94-.94-2.06-.94 2.06-2.06.94z\"/><path d=\"M17.41 7.96l-1.37-1.37c-.4-.4-.92-.59-1.43-.59-.52 0-1.04.2-1.43.59L10.3 9.45l-7.72 7.72c-.78.78-.78 2.05 0 2.83L4 21.41c.39.39.9.59 1.41.59.51 0 1.02-.2 1.41-.59l7.78-7.78 2.81-2.81c.8-.78.8-2.07 0-2.86zM5.41 20L4 18.59l7.72-7.72 1.47 1.35L5.41 20z\"/>\n",
              "  </svg>\n",
              "      </button>\n",
              "      \n",
              "  <style>\n",
              "    .colab-df-container {\n",
              "      display:flex;\n",
              "      flex-wrap:wrap;\n",
              "      gap: 12px;\n",
              "    }\n",
              "\n",
              "    .colab-df-convert {\n",
              "      background-color: #E8F0FE;\n",
              "      border: none;\n",
              "      border-radius: 50%;\n",
              "      cursor: pointer;\n",
              "      display: none;\n",
              "      fill: #1967D2;\n",
              "      height: 32px;\n",
              "      padding: 0 0 0 0;\n",
              "      width: 32px;\n",
              "    }\n",
              "\n",
              "    .colab-df-convert:hover {\n",
              "      background-color: #E2EBFA;\n",
              "      box-shadow: 0px 1px 2px rgba(60, 64, 67, 0.3), 0px 1px 3px 1px rgba(60, 64, 67, 0.15);\n",
              "      fill: #174EA6;\n",
              "    }\n",
              "\n",
              "    [theme=dark] .colab-df-convert {\n",
              "      background-color: #3B4455;\n",
              "      fill: #D2E3FC;\n",
              "    }\n",
              "\n",
              "    [theme=dark] .colab-df-convert:hover {\n",
              "      background-color: #434B5C;\n",
              "      box-shadow: 0px 1px 3px 1px rgba(0, 0, 0, 0.15);\n",
              "      filter: drop-shadow(0px 1px 2px rgba(0, 0, 0, 0.3));\n",
              "      fill: #FFFFFF;\n",
              "    }\n",
              "  </style>\n",
              "\n",
              "      <script>\n",
              "        const buttonEl =\n",
              "          document.querySelector('#df-f7c30643-f38b-4873-96ca-6a94468a2652 button.colab-df-convert');\n",
              "        buttonEl.style.display =\n",
              "          google.colab.kernel.accessAllowed ? 'block' : 'none';\n",
              "\n",
              "        async function convertToInteractive(key) {\n",
              "          const element = document.querySelector('#df-f7c30643-f38b-4873-96ca-6a94468a2652');\n",
              "          const dataTable =\n",
              "            await google.colab.kernel.invokeFunction('convertToInteractive',\n",
              "                                                     [key], {});\n",
              "          if (!dataTable) return;\n",
              "\n",
              "          const docLinkHtml = 'Like what you see? Visit the ' +\n",
              "            '<a target=\"_blank\" href=https://colab.research.google.com/notebooks/data_table.ipynb>data table notebook</a>'\n",
              "            + ' to learn more about interactive tables.';\n",
              "          element.innerHTML = '';\n",
              "          dataTable['output_type'] = 'display_data';\n",
              "          await google.colab.output.renderOutput(dataTable, element);\n",
              "          const docLink = document.createElement('div');\n",
              "          docLink.innerHTML = docLinkHtml;\n",
              "          element.appendChild(docLink);\n",
              "        }\n",
              "      </script>\n",
              "    </div>\n",
              "  </div>\n",
              "  "
            ]
          },
          "metadata": {},
          "execution_count": 105
        }
      ],
      "source": [
        "df.describe()"
      ]
    },
    {
      "cell_type": "markdown",
      "metadata": {
        "id": "unWDideTZ3Mh"
      },
      "source": [
        "# PLOTS"
      ]
    },
    {
      "cell_type": "code",
      "execution_count": 106,
      "metadata": {
        "id": "LpOLzvBSem8J"
      },
      "outputs": [],
      "source": [
        "#% matplotlib inline\n",
        "\n",
        "import matplotlib as mpl\n",
        "import matplotlib.pyplot as plt"
      ]
    },
    {
      "cell_type": "code",
      "execution_count": 107,
      "metadata": {
        "colab": {
          "base_uri": "https://localhost:8080/"
        },
        "id": "XS-jW9K6BuPP",
        "outputId": "106099d2-99e4-470c-c073-92a56390e18b"
      },
      "outputs": [
        {
          "output_type": "stream",
          "name": "stdout",
          "text": [
            "Matplotlib version:  3.7.1\n"
          ]
        }
      ],
      "source": [
        "mpl.style.use('ggplot')  # optional: for ggplot-like style\n",
        "\n",
        "# check for latest version of Matplotlib\n",
        "print('Matplotlib version: ', mpl.__version__) # >= 2.0.0"
      ]
    },
    {
      "cell_type": "markdown",
      "metadata": {
        "id": "BZUklQgebZQ0"
      },
      "source": [
        "**Create a new dataframe of the top ten Districts, considering days of hospitalization, called `df_top10` and fix the axis to plot**"
      ]
    },
    {
      "cell_type": "code",
      "execution_count": 178,
      "metadata": {
        "id": "frbn2aPvaEjd",
        "colab": {
          "base_uri": "https://localhost:8080/",
          "height": 1000
        },
        "outputId": "e1b88f73-bbfb-445f-95b1-367a0f470f4f"
      },
      "outputs": [
        {
          "output_type": "execute_result",
          "data": {
            "text/plain": [
              "                                                Str. Residenziale Flg FU  \\\n",
              "Nome Distretto                                                             \n",
              "  FORLÌ         S00336 - CASA-RESIDENZA PER ANZIANI NON AUTOSU...      N   \n",
              "  CESENA                                 S00350 - NUOVO ROVERELLA      N   \n",
              "  RIMINI                S01906 - ASP CASA VALLONI - STRUTTURA due      N   \n",
              "  RAVENNA                     S02560 - CASA PROTETTA VILLA SERENA      N   \n",
              "  RAVENNA                              S02916 - CENTRO SAN PIETRO      N   \n",
              "  LUGO                             S00286 - CRA FRATELLI BEDESCHI      N   \n",
              "  CESENA                  S01015 - FONDAZIONE MARIA FANTINI ONLUS      N   \n",
              "  RUBICONE      S00358 - CASA RESIDENZA ANZIANI DI SAN MAURO P...      N   \n",
              "  RAVENNA                              S02916 - CENTRO SAN PIETRO      N   \n",
              "  FAENZA                   S01559 - RESIDENZA SANTA UMILTA' - RSA      N   \n",
              "\n",
              "               Data accesso PS Ora accesso PS  \\\n",
              "Nome Distretto                                  \n",
              "  FORLÌ             2022-03-24          17:52   \n",
              "  CESENA            2022-11-02          11:55   \n",
              "  RIMINI            2021-02-27          12:06   \n",
              "  RAVENNA           2021-05-24          18:21   \n",
              "  RAVENNA           2021-04-06          13:11   \n",
              "  LUGO              2022-04-06          21:56   \n",
              "  CESENA            2021-01-01          11:50   \n",
              "  RUBICONE          2022-09-22          20:44   \n",
              "  RAVENNA           2021-10-18          12:31   \n",
              "  FAENZA            2022-05-19          12:04   \n",
              "\n",
              "                                           Diagnosi principale PS  \\\n",
              "Nome Distretto                                                      \n",
              "  FORLÌ         2967 - DISTURBO BIPOLARE DI I TIPO, PIU' RECEN...   \n",
              "  CESENA        4281 - INSUFFICIENZA DEL CUORE SINISTRO (SCOMP...   \n",
              "  RIMINI        0980 - INFEZIONE GONOCOCCICA (ACUTA) DELL'APPA...   \n",
              "  RAVENNA                                5750 - COLECISTITE ACUTA   \n",
              "  RAVENNA       2818 - ANEMIA ASSOCIATA AD ALTRA CARENZA NUTRI...   \n",
              "  LUGO                         2851 - ANEMIA POSTEMORRAGICA ACUTA   \n",
              "  CESENA        3009 - DISTURBI PSICHICI NON PSICOTICI NON SPE...   \n",
              "  RUBICONE      7936 - REPERTI ANORMALI NON SPECIFICI IN ESAMI...   \n",
              "  RAVENNA                               78701 - NAUSEA CON VOMITO   \n",
              "  FAENZA                   7806 - FEBBRE (DI ORIGINE SCONOSCIUTA)   \n",
              "\n",
              "               Data Ammissione Data Dimissione  \\\n",
              "Nome Distretto                                   \n",
              "  FORLÌ             2022-03-24      2022-06-14   \n",
              "  CESENA            2022-11-02      2023-01-18   \n",
              "  RIMINI            2021-02-27      2021-05-12   \n",
              "  RAVENNA           2021-05-25      2021-08-06   \n",
              "  RAVENNA           2021-04-06      2021-06-11   \n",
              "  LUGO              2022-04-06      2022-06-10   \n",
              "  CESENA            2021-01-01      2021-03-03   \n",
              "  RUBICONE          2022-09-23      2022-11-22   \n",
              "  RAVENNA           2021-10-19      2021-12-18   \n",
              "  FAENZA            2022-05-19      2022-07-15   \n",
              "\n",
              "                                                     Modalità Dim  Year  \\\n",
              "Nome Distretto                                                            \n",
              "  FORLÌ                                     ORDINARIA A DOMICILIO  2022   \n",
              "  CESENA                  PROTETTA C/O STRUTTURE EXTRAOSPEDALIERE  2022   \n",
              "  RIMINI                  PROTETTA C/O STRUTTURE EXTRAOSPEDALIERE  2021   \n",
              "  RAVENNA                                   ORDINARIA A DOMICILIO  2021   \n",
              "  RAVENNA                 PROTETTA C/O STRUTTURE EXTRAOSPEDALIERE  2021   \n",
              "  LUGO                    PROTETTA C/O STRUTTURE EXTRAOSPEDALIERE  2022   \n",
              "  CESENA                  PROTETTA C/O STRUTTURE EXTRAOSPEDALIERE  2021   \n",
              "  RUBICONE      TRASF. AD ALTRO REGIME DI RICOVERO O ALTRO TIP...  2022   \n",
              "  RAVENNA                                                DECEDUTO  2021   \n",
              "  FAENZA        TRASF. AD ALTRO REGIME DI RICOVERO O ALTRO TIP...  2022   \n",
              "\n",
              "                Giorni di ricuvero cod_Distretto cod_ID_Osp_1 cod_ID_Osp_2  \\\n",
              "Nome Distretto                                                               \n",
              "  FORLÌ                         82          038       8984984       S00336   \n",
              "  CESENA                        77          039       7975042       S00350   \n",
              "  RIMINI                        74          040       7674844       S01906   \n",
              "  RAVENNA                       73          035       7679597       S02560   \n",
              "  RAVENNA                       66          035       8983602       S02916   \n",
              "  LUGO                          65          036       8987692       S00286   \n",
              "  CESENA                        61          039       7743701       S01015   \n",
              "  RUBICONE                      60          049       7692938       S00358   \n",
              "  RAVENNA                       60          035       8223754       S02916   \n",
              "  FAENZA                        57          037       7819588       S01559   \n",
              "\n",
              "               cod_ID_Osp_3 cod_ID_Accesso_PS_1 cod_ID_Accesso_PS_2  \\\n",
              "Nome Distretto                                                        \n",
              "  FORLÌ            20220101              080114            08008501   \n",
              "  CESENA           20220926              080114            08009101   \n",
              "  RIMINI           20210101              080114            08009501   \n",
              "  RAVENNA          20210510              080114              080072   \n",
              "  RAVENNA          20210318              080114              080072   \n",
              "  LUGO             20220315              080114              080072   \n",
              "  CESENA           20210101              080114            08009101   \n",
              "  RUBICONE         20220101              080114            08009101   \n",
              "  RAVENNA          20210101              080114              080072   \n",
              "  FAENZA           20220502              080114              080082   \n",
              "\n",
              "               cod_ID_Accesso_PS_3 cod_ID_SDO_1 cod_ID_SDO_2 Total  \n",
              "Nome Distretto                                                      \n",
              "  FORLÌ                   08008501       080085     22005646   NaN  \n",
              "  CESENA                  08009101       080091     22521004   NaN  \n",
              "  RIMINI                  08009501       080095     21005173   NaN  \n",
              "  RAVENNA                   080072       080072     21009648   NaN  \n",
              "  RAVENNA                   080072       080072     21006435   NaN  \n",
              "  LUGO                      080072       080072     22007379   NaN  \n",
              "  CESENA                  08009101       080091     21500024   NaN  \n",
              "  RUBICONE                08009101       080091     22518121   NaN  \n",
              "  RAVENNA                   080072       080072     21019949   NaN  \n",
              "  FAENZA                    080082       080082     22804066   NaN  "
            ],
            "text/html": [
              "\n",
              "  <div id=\"df-59501f7c-2032-4229-b6d7-223e5c15f612\">\n",
              "    <div class=\"colab-df-container\">\n",
              "      <div>\n",
              "<style scoped>\n",
              "    .dataframe tbody tr th:only-of-type {\n",
              "        vertical-align: middle;\n",
              "    }\n",
              "\n",
              "    .dataframe tbody tr th {\n",
              "        vertical-align: top;\n",
              "    }\n",
              "\n",
              "    .dataframe thead th {\n",
              "        text-align: right;\n",
              "    }\n",
              "</style>\n",
              "<table border=\"1\" class=\"dataframe\">\n",
              "  <thead>\n",
              "    <tr style=\"text-align: right;\">\n",
              "      <th></th>\n",
              "      <th>Str. Residenziale</th>\n",
              "      <th>Flg FU</th>\n",
              "      <th>Data accesso PS</th>\n",
              "      <th>Ora accesso PS</th>\n",
              "      <th>Diagnosi principale PS</th>\n",
              "      <th>Data Ammissione</th>\n",
              "      <th>Data Dimissione</th>\n",
              "      <th>Modalità Dim</th>\n",
              "      <th>Year</th>\n",
              "      <th>Giorni di ricuvero</th>\n",
              "      <th>cod_Distretto</th>\n",
              "      <th>cod_ID_Osp_1</th>\n",
              "      <th>cod_ID_Osp_2</th>\n",
              "      <th>cod_ID_Osp_3</th>\n",
              "      <th>cod_ID_Accesso_PS_1</th>\n",
              "      <th>cod_ID_Accesso_PS_2</th>\n",
              "      <th>cod_ID_Accesso_PS_3</th>\n",
              "      <th>cod_ID_SDO_1</th>\n",
              "      <th>cod_ID_SDO_2</th>\n",
              "      <th>Total</th>\n",
              "    </tr>\n",
              "    <tr>\n",
              "      <th>Nome Distretto</th>\n",
              "      <th></th>\n",
              "      <th></th>\n",
              "      <th></th>\n",
              "      <th></th>\n",
              "      <th></th>\n",
              "      <th></th>\n",
              "      <th></th>\n",
              "      <th></th>\n",
              "      <th></th>\n",
              "      <th></th>\n",
              "      <th></th>\n",
              "      <th></th>\n",
              "      <th></th>\n",
              "      <th></th>\n",
              "      <th></th>\n",
              "      <th></th>\n",
              "      <th></th>\n",
              "      <th></th>\n",
              "      <th></th>\n",
              "      <th></th>\n",
              "    </tr>\n",
              "  </thead>\n",
              "  <tbody>\n",
              "    <tr>\n",
              "      <th>FORLÌ</th>\n",
              "      <td>S00336 - CASA-RESIDENZA PER ANZIANI NON AUTOSU...</td>\n",
              "      <td>N</td>\n",
              "      <td>2022-03-24</td>\n",
              "      <td>17:52</td>\n",
              "      <td>2967 - DISTURBO BIPOLARE DI I TIPO, PIU' RECEN...</td>\n",
              "      <td>2022-03-24</td>\n",
              "      <td>2022-06-14</td>\n",
              "      <td>ORDINARIA A DOMICILIO</td>\n",
              "      <td>2022</td>\n",
              "      <td>82</td>\n",
              "      <td>038</td>\n",
              "      <td>8984984</td>\n",
              "      <td>S00336</td>\n",
              "      <td>20220101</td>\n",
              "      <td>080114</td>\n",
              "      <td>08008501</td>\n",
              "      <td>08008501</td>\n",
              "      <td>080085</td>\n",
              "      <td>22005646</td>\n",
              "      <td>NaN</td>\n",
              "    </tr>\n",
              "    <tr>\n",
              "      <th>CESENA</th>\n",
              "      <td>S00350 - NUOVO ROVERELLA</td>\n",
              "      <td>N</td>\n",
              "      <td>2022-11-02</td>\n",
              "      <td>11:55</td>\n",
              "      <td>4281 - INSUFFICIENZA DEL CUORE SINISTRO (SCOMP...</td>\n",
              "      <td>2022-11-02</td>\n",
              "      <td>2023-01-18</td>\n",
              "      <td>PROTETTA C/O STRUTTURE EXTRAOSPEDALIERE</td>\n",
              "      <td>2022</td>\n",
              "      <td>77</td>\n",
              "      <td>039</td>\n",
              "      <td>7975042</td>\n",
              "      <td>S00350</td>\n",
              "      <td>20220926</td>\n",
              "      <td>080114</td>\n",
              "      <td>08009101</td>\n",
              "      <td>08009101</td>\n",
              "      <td>080091</td>\n",
              "      <td>22521004</td>\n",
              "      <td>NaN</td>\n",
              "    </tr>\n",
              "    <tr>\n",
              "      <th>RIMINI</th>\n",
              "      <td>S01906 - ASP CASA VALLONI - STRUTTURA due</td>\n",
              "      <td>N</td>\n",
              "      <td>2021-02-27</td>\n",
              "      <td>12:06</td>\n",
              "      <td>0980 - INFEZIONE GONOCOCCICA (ACUTA) DELL'APPA...</td>\n",
              "      <td>2021-02-27</td>\n",
              "      <td>2021-05-12</td>\n",
              "      <td>PROTETTA C/O STRUTTURE EXTRAOSPEDALIERE</td>\n",
              "      <td>2021</td>\n",
              "      <td>74</td>\n",
              "      <td>040</td>\n",
              "      <td>7674844</td>\n",
              "      <td>S01906</td>\n",
              "      <td>20210101</td>\n",
              "      <td>080114</td>\n",
              "      <td>08009501</td>\n",
              "      <td>08009501</td>\n",
              "      <td>080095</td>\n",
              "      <td>21005173</td>\n",
              "      <td>NaN</td>\n",
              "    </tr>\n",
              "    <tr>\n",
              "      <th>RAVENNA</th>\n",
              "      <td>S02560 - CASA PROTETTA VILLA SERENA</td>\n",
              "      <td>N</td>\n",
              "      <td>2021-05-24</td>\n",
              "      <td>18:21</td>\n",
              "      <td>5750 - COLECISTITE ACUTA</td>\n",
              "      <td>2021-05-25</td>\n",
              "      <td>2021-08-06</td>\n",
              "      <td>ORDINARIA A DOMICILIO</td>\n",
              "      <td>2021</td>\n",
              "      <td>73</td>\n",
              "      <td>035</td>\n",
              "      <td>7679597</td>\n",
              "      <td>S02560</td>\n",
              "      <td>20210510</td>\n",
              "      <td>080114</td>\n",
              "      <td>080072</td>\n",
              "      <td>080072</td>\n",
              "      <td>080072</td>\n",
              "      <td>21009648</td>\n",
              "      <td>NaN</td>\n",
              "    </tr>\n",
              "    <tr>\n",
              "      <th>RAVENNA</th>\n",
              "      <td>S02916 - CENTRO SAN PIETRO</td>\n",
              "      <td>N</td>\n",
              "      <td>2021-04-06</td>\n",
              "      <td>13:11</td>\n",
              "      <td>2818 - ANEMIA ASSOCIATA AD ALTRA CARENZA NUTRI...</td>\n",
              "      <td>2021-04-06</td>\n",
              "      <td>2021-06-11</td>\n",
              "      <td>PROTETTA C/O STRUTTURE EXTRAOSPEDALIERE</td>\n",
              "      <td>2021</td>\n",
              "      <td>66</td>\n",
              "      <td>035</td>\n",
              "      <td>8983602</td>\n",
              "      <td>S02916</td>\n",
              "      <td>20210318</td>\n",
              "      <td>080114</td>\n",
              "      <td>080072</td>\n",
              "      <td>080072</td>\n",
              "      <td>080072</td>\n",
              "      <td>21006435</td>\n",
              "      <td>NaN</td>\n",
              "    </tr>\n",
              "    <tr>\n",
              "      <th>LUGO</th>\n",
              "      <td>S00286 - CRA FRATELLI BEDESCHI</td>\n",
              "      <td>N</td>\n",
              "      <td>2022-04-06</td>\n",
              "      <td>21:56</td>\n",
              "      <td>2851 - ANEMIA POSTEMORRAGICA ACUTA</td>\n",
              "      <td>2022-04-06</td>\n",
              "      <td>2022-06-10</td>\n",
              "      <td>PROTETTA C/O STRUTTURE EXTRAOSPEDALIERE</td>\n",
              "      <td>2022</td>\n",
              "      <td>65</td>\n",
              "      <td>036</td>\n",
              "      <td>8987692</td>\n",
              "      <td>S00286</td>\n",
              "      <td>20220315</td>\n",
              "      <td>080114</td>\n",
              "      <td>080072</td>\n",
              "      <td>080072</td>\n",
              "      <td>080072</td>\n",
              "      <td>22007379</td>\n",
              "      <td>NaN</td>\n",
              "    </tr>\n",
              "    <tr>\n",
              "      <th>CESENA</th>\n",
              "      <td>S01015 - FONDAZIONE MARIA FANTINI ONLUS</td>\n",
              "      <td>N</td>\n",
              "      <td>2021-01-01</td>\n",
              "      <td>11:50</td>\n",
              "      <td>3009 - DISTURBI PSICHICI NON PSICOTICI NON SPE...</td>\n",
              "      <td>2021-01-01</td>\n",
              "      <td>2021-03-03</td>\n",
              "      <td>PROTETTA C/O STRUTTURE EXTRAOSPEDALIERE</td>\n",
              "      <td>2021</td>\n",
              "      <td>61</td>\n",
              "      <td>039</td>\n",
              "      <td>7743701</td>\n",
              "      <td>S01015</td>\n",
              "      <td>20210101</td>\n",
              "      <td>080114</td>\n",
              "      <td>08009101</td>\n",
              "      <td>08009101</td>\n",
              "      <td>080091</td>\n",
              "      <td>21500024</td>\n",
              "      <td>NaN</td>\n",
              "    </tr>\n",
              "    <tr>\n",
              "      <th>RUBICONE</th>\n",
              "      <td>S00358 - CASA RESIDENZA ANZIANI DI SAN MAURO P...</td>\n",
              "      <td>N</td>\n",
              "      <td>2022-09-22</td>\n",
              "      <td>20:44</td>\n",
              "      <td>7936 - REPERTI ANORMALI NON SPECIFICI IN ESAMI...</td>\n",
              "      <td>2022-09-23</td>\n",
              "      <td>2022-11-22</td>\n",
              "      <td>TRASF. AD ALTRO REGIME DI RICOVERO O ALTRO TIP...</td>\n",
              "      <td>2022</td>\n",
              "      <td>60</td>\n",
              "      <td>049</td>\n",
              "      <td>7692938</td>\n",
              "      <td>S00358</td>\n",
              "      <td>20220101</td>\n",
              "      <td>080114</td>\n",
              "      <td>08009101</td>\n",
              "      <td>08009101</td>\n",
              "      <td>080091</td>\n",
              "      <td>22518121</td>\n",
              "      <td>NaN</td>\n",
              "    </tr>\n",
              "    <tr>\n",
              "      <th>RAVENNA</th>\n",
              "      <td>S02916 - CENTRO SAN PIETRO</td>\n",
              "      <td>N</td>\n",
              "      <td>2021-10-18</td>\n",
              "      <td>12:31</td>\n",
              "      <td>78701 - NAUSEA CON VOMITO</td>\n",
              "      <td>2021-10-19</td>\n",
              "      <td>2021-12-18</td>\n",
              "      <td>DECEDUTO</td>\n",
              "      <td>2021</td>\n",
              "      <td>60</td>\n",
              "      <td>035</td>\n",
              "      <td>8223754</td>\n",
              "      <td>S02916</td>\n",
              "      <td>20210101</td>\n",
              "      <td>080114</td>\n",
              "      <td>080072</td>\n",
              "      <td>080072</td>\n",
              "      <td>080072</td>\n",
              "      <td>21019949</td>\n",
              "      <td>NaN</td>\n",
              "    </tr>\n",
              "    <tr>\n",
              "      <th>FAENZA</th>\n",
              "      <td>S01559 - RESIDENZA SANTA UMILTA' - RSA</td>\n",
              "      <td>N</td>\n",
              "      <td>2022-05-19</td>\n",
              "      <td>12:04</td>\n",
              "      <td>7806 - FEBBRE (DI ORIGINE SCONOSCIUTA)</td>\n",
              "      <td>2022-05-19</td>\n",
              "      <td>2022-07-15</td>\n",
              "      <td>TRASF. AD ALTRO REGIME DI RICOVERO O ALTRO TIP...</td>\n",
              "      <td>2022</td>\n",
              "      <td>57</td>\n",
              "      <td>037</td>\n",
              "      <td>7819588</td>\n",
              "      <td>S01559</td>\n",
              "      <td>20220502</td>\n",
              "      <td>080114</td>\n",
              "      <td>080082</td>\n",
              "      <td>080082</td>\n",
              "      <td>080082</td>\n",
              "      <td>22804066</td>\n",
              "      <td>NaN</td>\n",
              "    </tr>\n",
              "  </tbody>\n",
              "</table>\n",
              "</div>\n",
              "      <button class=\"colab-df-convert\" onclick=\"convertToInteractive('df-59501f7c-2032-4229-b6d7-223e5c15f612')\"\n",
              "              title=\"Convert this dataframe to an interactive table.\"\n",
              "              style=\"display:none;\">\n",
              "        \n",
              "  <svg xmlns=\"http://www.w3.org/2000/svg\" height=\"24px\"viewBox=\"0 0 24 24\"\n",
              "       width=\"24px\">\n",
              "    <path d=\"M0 0h24v24H0V0z\" fill=\"none\"/>\n",
              "    <path d=\"M18.56 5.44l.94 2.06.94-2.06 2.06-.94-2.06-.94-.94-2.06-.94 2.06-2.06.94zm-11 1L8.5 8.5l.94-2.06 2.06-.94-2.06-.94L8.5 2.5l-.94 2.06-2.06.94zm10 10l.94 2.06.94-2.06 2.06-.94-2.06-.94-.94-2.06-.94 2.06-2.06.94z\"/><path d=\"M17.41 7.96l-1.37-1.37c-.4-.4-.92-.59-1.43-.59-.52 0-1.04.2-1.43.59L10.3 9.45l-7.72 7.72c-.78.78-.78 2.05 0 2.83L4 21.41c.39.39.9.59 1.41.59.51 0 1.02-.2 1.41-.59l7.78-7.78 2.81-2.81c.8-.78.8-2.07 0-2.86zM5.41 20L4 18.59l7.72-7.72 1.47 1.35L5.41 20z\"/>\n",
              "  </svg>\n",
              "      </button>\n",
              "      \n",
              "  <style>\n",
              "    .colab-df-container {\n",
              "      display:flex;\n",
              "      flex-wrap:wrap;\n",
              "      gap: 12px;\n",
              "    }\n",
              "\n",
              "    .colab-df-convert {\n",
              "      background-color: #E8F0FE;\n",
              "      border: none;\n",
              "      border-radius: 50%;\n",
              "      cursor: pointer;\n",
              "      display: none;\n",
              "      fill: #1967D2;\n",
              "      height: 32px;\n",
              "      padding: 0 0 0 0;\n",
              "      width: 32px;\n",
              "    }\n",
              "\n",
              "    .colab-df-convert:hover {\n",
              "      background-color: #E2EBFA;\n",
              "      box-shadow: 0px 1px 2px rgba(60, 64, 67, 0.3), 0px 1px 3px 1px rgba(60, 64, 67, 0.15);\n",
              "      fill: #174EA6;\n",
              "    }\n",
              "\n",
              "    [theme=dark] .colab-df-convert {\n",
              "      background-color: #3B4455;\n",
              "      fill: #D2E3FC;\n",
              "    }\n",
              "\n",
              "    [theme=dark] .colab-df-convert:hover {\n",
              "      background-color: #434B5C;\n",
              "      box-shadow: 0px 1px 3px 1px rgba(0, 0, 0, 0.15);\n",
              "      filter: drop-shadow(0px 1px 2px rgba(0, 0, 0, 0.3));\n",
              "      fill: #FFFFFF;\n",
              "    }\n",
              "  </style>\n",
              "\n",
              "      <script>\n",
              "        const buttonEl =\n",
              "          document.querySelector('#df-59501f7c-2032-4229-b6d7-223e5c15f612 button.colab-df-convert');\n",
              "        buttonEl.style.display =\n",
              "          google.colab.kernel.accessAllowed ? 'block' : 'none';\n",
              "\n",
              "        async function convertToInteractive(key) {\n",
              "          const element = document.querySelector('#df-59501f7c-2032-4229-b6d7-223e5c15f612');\n",
              "          const dataTable =\n",
              "            await google.colab.kernel.invokeFunction('convertToInteractive',\n",
              "                                                     [key], {});\n",
              "          if (!dataTable) return;\n",
              "\n",
              "          const docLinkHtml = 'Like what you see? Visit the ' +\n",
              "            '<a target=\"_blank\" href=https://colab.research.google.com/notebooks/data_table.ipynb>data table notebook</a>'\n",
              "            + ' to learn more about interactive tables.';\n",
              "          element.innerHTML = '';\n",
              "          dataTable['output_type'] = 'display_data';\n",
              "          await google.colab.output.renderOutput(dataTable, element);\n",
              "          const docLink = document.createElement('div');\n",
              "          docLink.innerHTML = docLinkHtml;\n",
              "          element.appendChild(docLink);\n",
              "        }\n",
              "      </script>\n",
              "    </div>\n",
              "  </div>\n",
              "  "
            ]
          },
          "metadata": {},
          "execution_count": 178
        }
      ],
      "source": [
        "df_test.sort_values(['Giorni di ricuvero'], ascending= False, axis= 0, inplace= True)\n",
        "\n",
        "df_top10 = df_test.head(10)\n",
        "\n",
        "df_top10"
      ]
    },
    {
      "cell_type": "code",
      "source": [
        "df_top10['Giorni di ricuvero'] = df_top10['Giorni di ricuvero'].apply(pd.to_numeric)"
      ],
      "metadata": {
        "colab": {
          "base_uri": "https://localhost:8080/"
        },
        "id": "uvibW-WE3gyV",
        "outputId": "d3ea69f2-ad3f-4efb-dd70-8f2723d1f02e"
      },
      "execution_count": 179,
      "outputs": [
        {
          "output_type": "stream",
          "name": "stderr",
          "text": [
            "<ipython-input-179-4d75855479af>:1: SettingWithCopyWarning: \n",
            "A value is trying to be set on a copy of a slice from a DataFrame.\n",
            "Try using .loc[row_indexer,col_indexer] = value instead\n",
            "\n",
            "See the caveats in the documentation: https://pandas.pydata.org/pandas-docs/stable/user_guide/indexing.html#returning-a-view-versus-a-copy\n",
            "  df_top10['Giorni di ricuvero'] = df_top10['Giorni di ricuvero'].apply(pd.to_numeric)\n"
          ]
        }
      ]
    },
    {
      "cell_type": "code",
      "execution_count": 181,
      "metadata": {
        "id": "hwknhR-Kd4n7"
      },
      "outputs": [],
      "source": [
        "df_top10 = df_top10['Giorni di ricuvero'].transpose()"
      ]
    },
    {
      "cell_type": "code",
      "execution_count": 182,
      "metadata": {
        "colab": {
          "base_uri": "https://localhost:8080/",
          "height": 494
        },
        "id": "ue776Oz0e4eg",
        "outputId": "33ab0f8c-5d2b-42f7-f671-6cffae2a73be"
      },
      "outputs": [
        {
          "output_type": "execute_result",
          "data": {
            "text/plain": [
              "<function matplotlib.pyplot.show(close=None, block=None)>"
            ]
          },
          "metadata": {},
          "execution_count": 182
        },
        {
          "output_type": "display_data",
          "data": {
            "text/plain": [
              "<Figure size 640x480 with 1 Axes>"
            ],
            "image/png": "[encoded data removed]"
          },
          "metadata": {}
        }
      ],
      "source": [
        "df_top10.plot(kind= 'area')\n",
        "#fig = plt.figure(figsize=(8,6))\n",
        "plt.title(\"Trend of Top 10 Districts\")\n",
        "plt.xlabel(\"Numbers of Hospitalization\")\n",
        "plt.xlabel(\"Districts\")\n",
        "\n",
        "plt.show"
      ]
    },
    {
      "cell_type": "markdown",
      "source": [
        "# Histogram"
      ],
      "metadata": {
        "id": "_3blwb82AcSI"
      }
    },
    {
      "cell_type": "code",
      "source": [
        "df_test.sort_values(['Giorni di ricuvero'], ascending= False, axis= 0, inplace= True)\n",
        "\n",
        "df_top10 = df_test.head(10)\n"
      ],
      "metadata": {
        "id": "6d9X-R6LGrIg"
      },
      "execution_count": 184,
      "outputs": []
    },
    {
      "cell_type": "code",
      "source": [
        "plt.hist(df_top10['Giorni di ricuvero'], bins=15)\n",
        "plt.show()"
      ],
      "metadata": {
        "colab": {
          "base_uri": "https://localhost:8080/",
          "height": 430
        },
        "id": "es-M5vh3-w9N",
        "outputId": "58bc49bc-6f3f-454b-fc90-80dc6fdcbc3f"
      },
      "execution_count": 185,
      "outputs": [
        {
          "output_type": "display_data",
          "data": {
            "text/plain": [
              "<Figure size 640x480 with 1 Axes>"
            ],
            "image/png": "[encoded data removed]"
          },
          "metadata": {}
        }
      ]
    },
    {
      "cell_type": "markdown",
      "metadata": {
        "id": "avcn-mu7hd7N"
      },
      "source": [
        "## BoxPlot"
      ]
    },
    {
      "cell_type": "code",
      "source": [
        "import seaborn as sns"
      ],
      "metadata": {
        "id": "c0W0K792h0wD"
      },
      "execution_count": 116,
      "outputs": []
    },
    {
      "cell_type": "code",
      "source": [
        "df_test.describe()\n"
      ],
      "metadata": {
        "colab": {
          "base_uri": "https://localhost:8080/",
          "height": 297
        },
        "id": "EhCrjaaWqczv",
        "outputId": "96d24289-fc5e-499b-8cc1-22f8e7377641"
      },
      "execution_count": 186,
      "outputs": [
        {
          "output_type": "execute_result",
          "data": {
            "text/plain": [
              "       Giorni di ricuvero\n",
              "count         7142.000000\n",
              "mean             4.761131\n",
              "std              7.664551\n",
              "min              0.000000\n",
              "25%              0.000000\n",
              "50%              0.000000\n",
              "75%              8.000000\n",
              "max             82.000000"
            ],
            "text/html": [
              "\n",
              "  <div id=\"df-7708f9e8-75a1-44f5-83ab-86464976808d\">\n",
              "    <div class=\"colab-df-container\">\n",
              "      <div>\n",
              "<style scoped>\n",
              "    .dataframe tbody tr th:only-of-type {\n",
              "        vertical-align: middle;\n",
              "    }\n",
              "\n",
              "    .dataframe tbody tr th {\n",
              "        vertical-align: top;\n",
              "    }\n",
              "\n",
              "    .dataframe thead th {\n",
              "        text-align: right;\n",
              "    }\n",
              "</style>\n",
              "<table border=\"1\" class=\"dataframe\">\n",
              "  <thead>\n",
              "    <tr style=\"text-align: right;\">\n",
              "      <th></th>\n",
              "      <th>Giorni di ricuvero</th>\n",
              "    </tr>\n",
              "  </thead>\n",
              "  <tbody>\n",
              "    <tr>\n",
              "      <th>count</th>\n",
              "      <td>7142.000000</td>\n",
              "    </tr>\n",
              "    <tr>\n",
              "      <th>mean</th>\n",
              "      <td>4.761131</td>\n",
              "    </tr>\n",
              "    <tr>\n",
              "      <th>std</th>\n",
              "      <td>7.664551</td>\n",
              "    </tr>\n",
              "    <tr>\n",
              "      <th>min</th>\n",
              "      <td>0.000000</td>\n",
              "    </tr>\n",
              "    <tr>\n",
              "      <th>25%</th>\n",
              "      <td>0.000000</td>\n",
              "    </tr>\n",
              "    <tr>\n",
              "      <th>50%</th>\n",
              "      <td>0.000000</td>\n",
              "    </tr>\n",
              "    <tr>\n",
              "      <th>75%</th>\n",
              "      <td>8.000000</td>\n",
              "    </tr>\n",
              "    <tr>\n",
              "      <th>max</th>\n",
              "      <td>82.000000</td>\n",
              "    </tr>\n",
              "  </tbody>\n",
              "</table>\n",
              "</div>\n",
              "      <button class=\"colab-df-convert\" onclick=\"convertToInteractive('df-7708f9e8-75a1-44f5-83ab-86464976808d')\"\n",
              "              title=\"Convert this dataframe to an interactive table.\"\n",
              "              style=\"display:none;\">\n",
              "        \n",
              "  <svg xmlns=\"http://www.w3.org/2000/svg\" height=\"24px\"viewBox=\"0 0 24 24\"\n",
              "       width=\"24px\">\n",
              "    <path d=\"M0 0h24v24H0V0z\" fill=\"none\"/>\n",
              "    <path d=\"M18.56 5.44l.94 2.06.94-2.06 2.06-.94-2.06-.94-.94-2.06-.94 2.06-2.06.94zm-11 1L8.5 8.5l.94-2.06 2.06-.94-2.06-.94L8.5 2.5l-.94 2.06-2.06.94zm10 10l.94 2.06.94-2.06 2.06-.94-2.06-.94-.94-2.06-.94 2.06-2.06.94z\"/><path d=\"M17.41 7.96l-1.37-1.37c-.4-.4-.92-.59-1.43-.59-.52 0-1.04.2-1.43.59L10.3 9.45l-7.72 7.72c-.78.78-.78 2.05 0 2.83L4 21.41c.39.39.9.59 1.41.59.51 0 1.02-.2 1.41-.59l7.78-7.78 2.81-2.81c.8-.78.8-2.07 0-2.86zM5.41 20L4 18.59l7.72-7.72 1.47 1.35L5.41 20z\"/>\n",
              "  </svg>\n",
              "      </button>\n",
              "      \n",
              "  <style>\n",
              "    .colab-df-container {\n",
              "      display:flex;\n",
              "      flex-wrap:wrap;\n",
              "      gap: 12px;\n",
              "    }\n",
              "\n",
              "    .colab-df-convert {\n",
              "      background-color: #E8F0FE;\n",
              "      border: none;\n",
              "      border-radius: 50%;\n",
              "      cursor: pointer;\n",
              "      display: none;\n",
              "      fill: #1967D2;\n",
              "      height: 32px;\n",
              "      padding: 0 0 0 0;\n",
              "      width: 32px;\n",
              "    }\n",
              "\n",
              "    .colab-df-convert:hover {\n",
              "      background-color: #E2EBFA;\n",
              "      box-shadow: 0px 1px 2px rgba(60, 64, 67, 0.3), 0px 1px 3px 1px rgba(60, 64, 67, 0.15);\n",
              "      fill: #174EA6;\n",
              "    }\n",
              "\n",
              "    [theme=dark] .colab-df-convert {\n",
              "      background-color: #3B4455;\n",
              "      fill: #D2E3FC;\n",
              "    }\n",
              "\n",
              "    [theme=dark] .colab-df-convert:hover {\n",
              "      background-color: #434B5C;\n",
              "      box-shadow: 0px 1px 3px 1px rgba(0, 0, 0, 0.15);\n",
              "      filter: drop-shadow(0px 1px 2px rgba(0, 0, 0, 0.3));\n",
              "      fill: #FFFFFF;\n",
              "    }\n",
              "  </style>\n",
              "\n",
              "      <script>\n",
              "        const buttonEl =\n",
              "          document.querySelector('#df-7708f9e8-75a1-44f5-83ab-86464976808d button.colab-df-convert');\n",
              "        buttonEl.style.display =\n",
              "          google.colab.kernel.accessAllowed ? 'block' : 'none';\n",
              "\n",
              "        async function convertToInteractive(key) {\n",
              "          const element = document.querySelector('#df-7708f9e8-75a1-44f5-83ab-86464976808d');\n",
              "          const dataTable =\n",
              "            await google.colab.kernel.invokeFunction('convertToInteractive',\n",
              "                                                     [key], {});\n",
              "          if (!dataTable) return;\n",
              "\n",
              "          const docLinkHtml = 'Like what you see? Visit the ' +\n",
              "            '<a target=\"_blank\" href=https://colab.research.google.com/notebooks/data_table.ipynb>data table notebook</a>'\n",
              "            + ' to learn more about interactive tables.';\n",
              "          element.innerHTML = '';\n",
              "          dataTable['output_type'] = 'display_data';\n",
              "          await google.colab.output.renderOutput(dataTable, element);\n",
              "          const docLink = document.createElement('div');\n",
              "          docLink.innerHTML = docLinkHtml;\n",
              "          element.appendChild(docLink);\n",
              "        }\n",
              "      </script>\n",
              "    </div>\n",
              "  </div>\n",
              "  "
            ]
          },
          "metadata": {},
          "execution_count": 186
        }
      ]
    },
    {
      "cell_type": "code",
      "source": [
        "sns.boxplot(df_test['Giorni di ricuvero'])"
      ],
      "metadata": {
        "colab": {
          "base_uri": "https://localhost:8080/",
          "height": 447
        },
        "id": "QrFubR1Thz4b",
        "outputId": "c01d4c55-e4e7-4986-cece-9d929cfc1041"
      },
      "execution_count": 187,
      "outputs": [
        {
          "output_type": "execute_result",
          "data": {
            "text/plain": [
              "<Axes: >"
            ]
          },
          "metadata": {},
          "execution_count": 187
        },
        {
          "output_type": "display_data",
          "data": {
            "text/plain": [
              "<Figure size 640x480 with 1 Axes>"
            ],
            "image/png": "[encoded data removed]"
          },
          "metadata": {}
        }
      ]
    },
    {
      "cell_type": "markdown",
      "source": [
        "**Coding:**                                    May 2023\n",
        "\n",
        "**Marcos José Rodrigues de Souza**\n",
        "\n",
        "***Public Health Specialist***"
      ],
      "metadata": {
        "id": "UiT_s_e-A5Tv"
      }
    }
  ],
  "metadata": {
    "colab": {
      "provenance": [],
      "authorship_tag": "ABX9TyMS1nLUbB4ZuPi1d0HJeNmY",
      "include_colab_link": true
    },
    "kernelspec": {
      "display_name": "Python 3",
      "name": "python3"
    },
    "language_info": {
      "name": "python"
    }
  },
  "nbformat": 4,
  "nbformat_minor": 0
}